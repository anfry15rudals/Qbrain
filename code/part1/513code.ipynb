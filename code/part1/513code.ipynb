{
 "cells": [
  {
   "cell_type": "code",
   "execution_count": 6,
   "metadata": {},
   "outputs": [],
   "source": [
    "result = {'000000000': 1000}"
   ]
  },
  {
   "cell_type": "code",
   "execution_count": 7,
   "metadata": {},
   "outputs": [
    {
     "name": "stdout",
     "output_type": "stream",
     "text": [
      "00000 0000\n",
      "0 1000\n"
     ]
    }
   ],
   "source": [
    "logical_zero = ['00000', '10010', '01001', '10100', '01010', '11011', '00110', '11000',\n",
    "                '11101', '00011', '11110', '01111', '10001', '01100', '10111', '00101']\n",
    "logical_one = ['11111', '01101', '10110', '01011', '10101', '00100', '11001', '00111',\n",
    "                '00010', '11100', '00001', '10000', '01110', '10011', '01000', '11010']\n",
    "x_error_syndrome = ['1000', '0001', '1100', '0110', '0011', '1011', '1101', '1110', '1111', '0111']\n",
    "\n",
    "count_zero = 0\n",
    "count_one = 0\n",
    "\n",
    "for state in result.keys():\n",
    "    logical_state = state[:-4]\n",
    "    syndrome = state[-4:]\n",
    "    print(logical_state, syndrome)\n",
    "    if (logical_state in logical_zero and syndrome not in x_error_syndrome)\\\n",
    "        or (logical_state in logical_one and syndrome in x_error_syndrome):\n",
    "        count_zero += result[state]\n",
    "    else:\n",
    "        count_one += result[state]\n",
    "\n",
    "print(count_zero, count_one)"
   ]
  }
 ],
 "metadata": {
  "kernelspec": {
   "display_name": "Python 3",
   "language": "python",
   "name": "python3"
  },
  "language_info": {
   "codemirror_mode": {
    "name": "ipython",
    "version": 3
   },
   "file_extension": ".py",
   "mimetype": "text/x-python",
   "name": "python",
   "nbconvert_exporter": "python",
   "pygments_lexer": "ipython3",
   "version": "3.8.8"
  },
  "vscode": {
   "interpreter": {
    "hash": "e1d1d68f2e339f93325a9f2ccf956f9a29c93a6456e2b02cb012c1f047632748"
   }
  }
 },
 "nbformat": 4,
 "nbformat_minor": 2
}
