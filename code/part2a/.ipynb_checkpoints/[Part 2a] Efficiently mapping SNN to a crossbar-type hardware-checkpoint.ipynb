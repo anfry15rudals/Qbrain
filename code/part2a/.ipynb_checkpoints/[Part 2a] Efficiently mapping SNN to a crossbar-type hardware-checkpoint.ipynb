{
 "cells": [
  {
   "cell_type": "code",
   "execution_count": 1,
   "id": "de306710",
   "metadata": {},
   "outputs": [],
   "source": [
    "import numpy as np\n",
    "import networkx as nx\n",
    "import matplotlib.pyplot as plt\n",
    "\n",
    "from qiskit import QuantumCircuit, ClassicalRegister, QuantumRegister\n",
    "from qiskit import Aer, execute\n",
    "from qiskit.circuit import Parameter\n",
    "\n",
    "from itertools import product\n",
    "from qiskit.visualization import plot_histogram"
   ]
  },
  {
   "cell_type": "code",
   "execution_count": 2,
   "id": "586f085e",
   "metadata": {},
   "outputs": [],
   "source": [
    "# # Graph example A: a graph with 9 nodes\n",
    "# G = nx.Graph()\n",
    "# G.add_nodes_from([0, 1, 2, 3, 4, 5, 6, 7, 8])\n",
    "# G.add_weighted_edges_from([(0, 1, 21), (0, 2, 25), (1, 3, 13), (2, 4, 11), (3, 5, 24), (3, 6, 23), (2, 4, 11), (4, 7, 27), (4, 8, 22)])\n",
    "# labels = nx.get_edge_attributes(G,'weight')\n",
    "# nx.draw(G, with_labels=True, alpha=0.8, node_size=500)"
   ]
  },
  {
   "cell_type": "code",
   "execution_count": 3,
   "id": "7c554710",
   "metadata": {},
   "outputs": [
    {
     "data": {
      "image/png": "[encoded data removed]",
      "text/plain": [
       "<Figure size 432x288 with 1 Axes>"
      ]
     },
     "metadata": {},
     "output_type": "display_data"
    }
   ],
   "source": [
    "# Graph example B: a graph with 6 nodes\n",
    "G = nx.Graph()\n",
    "G.add_nodes_from([0, 1, 2, 3, 4, 5])\n",
    "G.add_weighted_edges_from([(0, 1, 21), (1, 2, 17), (1, 3, 15), (2, 4, 25), (3, 5, 27)])\n",
    "labels = nx.get_edge_attributes(G,'weight')\n",
    "nx.draw(G, with_labels=True, alpha=0.8, node_size=500)"
   ]
  },
  {
   "cell_type": "markdown",
   "id": "5c11d566",
   "metadata": {},
   "source": [
    "## Mixing Unitary"
   ]
  },
  {
   "cell_type": "code",
   "execution_count": 5,
   "id": "af618e2b",
   "metadata": {},
   "outputs": [
    {
     "ename": "NameError",
     "evalue": "name 'nqubits' is not defined",
     "output_type": "error",
     "traceback": [
      "\u001b[1;31m---------------------------------------------------------------------------\u001b[0m",
      "\u001b[1;31mNameError\u001b[0m                                 Traceback (most recent call last)",
      "\u001b[1;32m<ipython-input-5-e12fc0713c8a>\u001b[0m in \u001b[0;36m<module>\u001b[1;34m\u001b[0m\n\u001b[0;32m      1\u001b[0m \u001b[0mbeta\u001b[0m \u001b[1;33m=\u001b[0m \u001b[0mParameter\u001b[0m\u001b[1;33m(\u001b[0m\u001b[1;34m\"$\\\\beta$\"\u001b[0m\u001b[1;33m)\u001b[0m\u001b[1;33m\u001b[0m\u001b[1;33m\u001b[0m\u001b[0m\n\u001b[1;32m----> 2\u001b[1;33m \u001b[0mqc_mix\u001b[0m \u001b[1;33m=\u001b[0m \u001b[0mQuantumCircuit\u001b[0m\u001b[1;33m(\u001b[0m\u001b[0mnqubits\u001b[0m\u001b[1;33m)\u001b[0m\u001b[1;33m\u001b[0m\u001b[1;33m\u001b[0m\u001b[0m\n\u001b[0m\u001b[0;32m      3\u001b[0m \u001b[1;32mfor\u001b[0m \u001b[0mi\u001b[0m \u001b[1;32min\u001b[0m \u001b[0mrange\u001b[0m\u001b[1;33m(\u001b[0m\u001b[1;36m0\u001b[0m\u001b[1;33m,\u001b[0m \u001b[0mnqubits\u001b[0m\u001b[1;33m)\u001b[0m\u001b[1;33m:\u001b[0m\u001b[1;33m\u001b[0m\u001b[1;33m\u001b[0m\u001b[0m\n\u001b[0;32m      4\u001b[0m     \u001b[0mqc_mix\u001b[0m\u001b[1;33m.\u001b[0m\u001b[0mrx\u001b[0m\u001b[1;33m(\u001b[0m\u001b[1;36m2\u001b[0m \u001b[1;33m*\u001b[0m \u001b[0mbeta\u001b[0m\u001b[1;33m,\u001b[0m \u001b[0mi\u001b[0m\u001b[1;33m)\u001b[0m\u001b[1;33m\u001b[0m\u001b[1;33m\u001b[0m\u001b[0m\n\u001b[0;32m      5\u001b[0m \u001b[1;33m\u001b[0m\u001b[0m\n",
      "\u001b[1;31mNameError\u001b[0m: name 'nqubits' is not defined"
     ]
    }
   ],
   "source": [
    "beta = Parameter(\"$\\\\beta$\")\n",
    "qc_mix = QuantumCircuit(nqubits)\n",
    "for i in range(0, nqubits):\n",
    "    qc_mix.rx(2 * beta, i)\n",
    "    \n",
    "qc_mix.draw()"
   ]
  },
  {
   "cell_type": "markdown",
   "id": "b91799bd",
   "metadata": {},
   "source": [
    "## Problem Unitary (Cost Unitary)"
   ]
  },
  {
   "cell_type": "markdown",
   "id": "0f4a6665",
   "metadata": {},
   "source": [
    "### [1st term of the problem unitary] The term describing the graph geometry: Laplacian matrix"
   ]
  },
  {
   "cell_type": "code",
   "execution_count": null,
   "id": "fa10468c",
   "metadata": {},
   "outputs": [],
   "source": [
    "L = nx.laplacian_matrix(G, nodelist=None, weight='weight').todense()\n",
    "print(L)\n",
    "plt.imshow(L)"
   ]
  },
  {
   "cell_type": "code",
   "execution_count": null,
   "id": "6e177fe4",
   "metadata": {},
   "outputs": [],
   "source": [
    "extended_L = np.zeros((nqubits, nqubits))\n",
    "for i in range(nclusters):\n",
    "    extended_L[i*nnodes:(i+1)*nnodes, i*nnodes:(i+1)*nnodes] += L\n",
    "plt.imshow(extended_L)"
   ]
  },
  {
   "cell_type": "markdown",
   "id": "e3045caf",
   "metadata": {},
   "source": [
    "### [2nd term of the problem unitary]  Constraint 1: the number of nodes in each cluster should be the same."
   ]
  },
  {
   "cell_type": "code",
   "execution_count": null,
   "id": "f2f447a1",
   "metadata": {},
   "outputs": [],
   "source": [
    "extended_c1 = np.zeros((nqubits, nqubits))\n",
    "\n",
    "# quadratic terms\n",
    "# naturally reduces to linear terms bc 1*1=1 and 0*0=0\n",
    "for i in range(nqubits):\n",
    "    extended_c1[i,i] += 1\n",
    "#plt.imshow(extended_c1)\n",
    "\n",
    "# linear terms\n",
    "small_off_diagonal_matrix = np.ones((nnodes, nnodes))\n",
    "for i in range(nnodes):\n",
    "    small_off_diagonal_matrix[i, i] = 0\n",
    "plt.plot()\n",
    "# plt.imshow(small_off_diagonal_matrix)\n",
    "\n",
    "for i in range(nclusters):\n",
    "    extended_c1[i*nnodes:(i+1)*nnodes, i*nnodes:(i+1)*nnodes] += small_off_diagonal_matrix * (nnodes // nclusters)\n",
    "\n",
    "plt.imshow(extended_c1)"
   ]
  },
  {
   "cell_type": "markdown",
   "id": "857eb1cc",
   "metadata": {},
   "source": [
    "### [3rd term of the problem unitary] Constraint 2: each node should be assigned to exactly one cluster."
   ]
  },
  {
   "cell_type": "code",
   "execution_count": null,
   "id": "9a4c291c",
   "metadata": {},
   "outputs": [],
   "source": [
    "extended_c2 = np.zeros((nqubits, nqubits))\n",
    "\n",
    "# quadratic terms\n",
    "# naturally reduces to linear terms bc 1*1=1 and 0*0=0\n",
    "for i in range(nqubits):\n",
    "    extended_c2[i,i] += 1\n",
    "\n",
    "# linear terms\n",
    "small_diagonal_matrix = np.zeros((nnodes, nnodes))\n",
    "for i in range(nnodes):\n",
    "    small_diagonal_matrix[i, i] += 1\n",
    "\n",
    "for i, j in product(np.arange(nclusters), np.arange(nclusters)):\n",
    "    if i != j:\n",
    "        extended_c2[i*nnodes: (i+1)*nnodes, j*nnodes: (j+1)*nnodes] += small_diagonal_matrix\n",
    "        \n",
    "plt.imshow(extended_c2)"
   ]
  },
  {
   "cell_type": "markdown",
   "id": "0ade7cc3",
   "metadata": {},
   "source": [
    "### [total problem unitary] Weighted sum of the above 3 matrices"
   ]
  },
  {
   "cell_type": "code",
   "execution_count": null,
   "id": "926bff5b",
   "metadata": {},
   "outputs": [],
   "source": [
    "constraint_weight = 50\n",
    "problem_unitary = extended_L + constraint_weight * extended_c1 + constraint_weight * 3 * extended_c2"
   ]
  },
  {
   "cell_type": "code",
   "execution_count": null,
   "id": "e294ca1d",
   "metadata": {},
   "outputs": [],
   "source": [
    "plt.imshow(problem_unitary)"
   ]
  },
  {
   "cell_type": "code",
   "execution_count": null,
   "id": "c7af33c3",
   "metadata": {},
   "outputs": [],
   "source": [
    "# total =0\n",
    "# for i, j in product(range(18), range(18)):\n",
    "#     if i>j and (problem_unitary[i, j] != 0):\n",
    "#         total += 1\n",
    "# print(total)"
   ]
  },
  {
   "cell_type": "markdown",
   "id": "23f5c4c9",
   "metadata": {},
   "source": [
    "### [total problem unitary] Converting the problem unitary to a quantum circuit\n",
    "Each entry is a weighted ZZ gate"
   ]
  },
  {
   "cell_type": "code",
   "execution_count": null,
   "id": "684492a4",
   "metadata": {},
   "outputs": [],
   "source": [
    "# # test = np.zeros_like(problem_unitary)\n",
    "# gamma = Parameter(\"$\\\\gamma$\")\n",
    "# qc_p = QuantumCircuit(nqubits)    \n",
    "\n",
    "# plt.imshow(test)\n",
    "# for i, j in product(np.arange(nqubits), np.arange(nqubits)):\n",
    "#     if (i < j) and (problem_unitary[i, j] != 0):\n",
    "# #         test[i, j] = problem_unitary[i, j]\n",
    "#         qc_p.rzz(2 * problem_unitary[i, j] * gamma, i, j)\n",
    "#         qc_p.barrier()\n",
    "\n",
    "# qc_p.decompose().draw()\n",
    "# # plt.imshow(test)"
   ]
  },
  {
   "cell_type": "code",
   "execution_count": null,
   "id": "7cbcf25d",
   "metadata": {
    "scrolled": true
   },
   "outputs": [],
   "source": [
    "test = np.zeros_like(problem_unitary)\n",
    "gamma = Parameter(\"$\\\\gamma$\")\n",
    "qc_p = QuantumCircuit(nqubits)    \n",
    "\n",
    "plt.imshow(test)\n",
    "for i, j in product(np.arange(nqubits), np.arange(nqubits)):\n",
    "    if (i < j) and (problem_unitary[i, j] != 0):\n",
    "#         test[i, j] = problem_unitary[i, j]\n",
    "        qc_p.rzz(2 * problem_unitary[i, j] * gamma, i, j)\n",
    "        qc_p.barrier()\n",
    "\n",
    "qc_p.decompose().draw()\n",
    "# plt.imshow(test)"
   ]
  },
  {
   "cell_type": "markdown",
   "id": "548b945f",
   "metadata": {},
   "source": [
    "# QAOA"
   ]
  },
  {
   "cell_type": "code",
   "execution_count": null,
   "id": "307f9cbf",
   "metadata": {},
   "outputs": [],
   "source": [
    "# initial state\n",
    "qc_0 = QuantumCircuit(nqubits)\n",
    "for i in range(0, nqubits):\n",
    "    qc_0.h(i)\n",
    "    \n",
    "# qc_0.draw()"
   ]
  },
  {
   "cell_type": "code",
   "execution_count": null,
   "id": "09bda2db",
   "metadata": {},
   "outputs": [],
   "source": [
    "qc_qaoa = QuantumCircuit(nqubits)\n",
    "\n",
    "qc_qaoa.append(qc_0, [i for i in range(0, nqubits)])\n",
    "qc_qaoa.append(qc_p, [i for i in range(0, nqubits)])\n",
    "qc_qaoa.append(qc_mix, [i for i in range(0, nqubits)])\n",
    "\n",
    "qc_qaoa.decompose().decompose().draw()"
   ]
  },
  {
   "cell_type": "code",
   "execution_count": null,
   "id": "633d9224",
   "metadata": {},
   "outputs": [],
   "source": [
    "def cost(x):\n",
    "    \"\"\"\n",
    "    Given a bitstring as a solution, this function \n",
    "    calculates the cost function for that solution\n",
    "    \n",
    "    Args:\n",
    "        x: str\n",
    "           solution bitstring\n",
    "        \n",
    "    Returns:\n",
    "        obj: float\n",
    "             Objective\n",
    "    \"\"\"\n",
    "    return np.matmul(x.transpose(), np.matmul(problem_unitary, x))"
   ]
  },
  {
   "cell_type": "code",
   "execution_count": null,
   "id": "b15aa5e4",
   "metadata": {},
   "outputs": [],
   "source": [
    "def compute_expectation(counts):\n",
    "    \"\"\"\n",
    "    Computes expectation value based on measurement results\n",
    "    \n",
    "    Args:\n",
    "        counts: dict\n",
    "                key as bitstring, val as count\n",
    "        \n",
    "    Returns:\n",
    "        avg: float\n",
    "             expectation value\n",
    "    \"\"\"\n",
    "    \n",
    "    total_cost = 0\n",
    "    sum_count = 0\n",
    "    for bitstring, count in counts.items():\n",
    "        bit = np.fromstring(bitstring,'u1') - ord('0')\n",
    "        total_cost += cost(bit.T) * count\n",
    "        sum_count += count\n",
    "        \n",
    "    return total_cost/sum_count"
   ]
  },
  {
   "cell_type": "code",
   "execution_count": null,
   "id": "c999cff9",
   "metadata": {},
   "outputs": [],
   "source": [
    "# build the qaoa circuit under a single function\n",
    "def create_qaoa_circ(theta):\n",
    "    \n",
    "    \"\"\"\n",
    "    Creates a parametrized qaoa circuit\n",
    "    \n",
    "    Args:  \n",
    "        theta: list\n",
    "               unitary parameters\n",
    "                     \n",
    "    Returns:\n",
    "        qc: qiskit circuit\n",
    "    \"\"\"\n",
    "    \n",
    "    p = len(theta)//2  # number of alternating unitaries\n",
    "    qc = QuantumCircuit(nqubits)\n",
    "    \n",
    "    beta = theta[:p]\n",
    "    gamma = theta[p:]\n",
    "    \n",
    "    # initial_state\n",
    "    for i in range(0, nqubits):\n",
    "        qc.h(i)\n",
    "    \n",
    "    for irep in range(0, p):\n",
    "        \n",
    "        # problem unitary\n",
    "        for i, j in product(np.arange(nqubits), np.arange(nqubits)):\n",
    "            if (i < j) and (problem_unitary[i, j] != 0):\n",
    "            #         test[i, j] = problem_unitary[i, j]\n",
    "                qc.rzz(2 * problem_unitary[i, j] * gamma[irep], i, j)\n",
    "                qc.barrier()\n",
    "\n",
    "        # mixer unitary\n",
    "        for i in range(0, nqubits):\n",
    "            qc.rx(2 * beta[irep], i)\n",
    "            \n",
    "    qc.measure_all()\n",
    "        \n",
    "    return qc\n",
    "\n",
    "\n",
    "def get_expectation(p, shots=512):\n",
    "    \n",
    "    \"\"\"\n",
    "    Runs parametrized circuit\n",
    "    \n",
    "    Args:\n",
    "        G: networkx graph\n",
    "        p: int,\n",
    "           Number of repetitions of unitaries\n",
    "    \"\"\"\n",
    "    \n",
    "    backend = Aer.get_backend('qasm_simulator')\n",
    "    backend.shots = shots\n",
    "    \n",
    "    def execute_circ(theta):\n",
    "        \n",
    "        qc = create_qaoa_circ(theta)\n",
    "        counts = backend.run(qc, seed_simulator=10, nshots=512).result().get_counts()\n",
    "        \n",
    "        return compute_expectation(counts)\n",
    "    \n",
    "    return execute_circ"
   ]
  },
  {
   "cell_type": "code",
   "execution_count": null,
   "id": "ddfda49c",
   "metadata": {},
   "outputs": [],
   "source": [
    "from scipy.optimize import minimize\n",
    "\n",
    "expectation = get_expectation(p=1)\n",
    "\n",
    "res = minimize(expectation, \n",
    "                      [1, 1], \n",
    "                      method='COBYLA')"
   ]
  },
  {
   "cell_type": "code",
   "execution_count": null,
   "id": "d6fe096b",
   "metadata": {},
   "outputs": [],
   "source": [
    "res"
   ]
  },
  {
   "cell_type": "code",
   "execution_count": null,
   "id": "4e701468",
   "metadata": {},
   "outputs": [],
   "source": [
    "qc = create_qaoa_circ(res.x)\n",
    "# qc.draw()"
   ]
  },
  {
   "cell_type": "code",
   "execution_count": null,
   "id": "c31ad163",
   "metadata": {},
   "outputs": [],
   "source": [
    "backend = Aer.get_backend('qasm_simulator')\n",
    "counts = backend.run(qc, seed_simulator=10, shots=1000000).result().get_counts()"
   ]
  },
  {
   "cell_type": "code",
   "execution_count": null,
   "id": "39a7d138",
   "metadata": {},
   "outputs": [],
   "source": [
    "len(counts)"
   ]
  },
  {
   "cell_type": "code",
   "execution_count": null,
   "id": "1f24bc39",
   "metadata": {},
   "outputs": [],
   "source": [
    "freq = counts.most_frequent()\n",
    "out = np.fromstring(freq,'u1') - ord('0')\n",
    "out"
   ]
  },
  {
   "cell_type": "code",
   "execution_count": null,
   "id": "f5e91e94",
   "metadata": {},
   "outputs": [],
   "source": [
    "out.reshape(-1,6)"
   ]
  },
  {
   "cell_type": "code",
   "execution_count": null,
   "id": "04885d96",
   "metadata": {},
   "outputs": [],
   "source": [
    "compute_expectation(counts)"
   ]
  },
  {
   "cell_type": "code",
   "execution_count": null,
   "id": "e4c5b092",
   "metadata": {},
   "outputs": [],
   "source": [
    "# counts"
   ]
  },
  {
   "cell_type": "code",
   "execution_count": null,
   "id": "7944b1cf",
   "metadata": {},
   "outputs": [],
   "source": [
    "backend = Aer.get_backend('qasm_simulator')\n",
    "print(backend)"
   ]
  },
  {
   "cell_type": "code",
   "execution_count": null,
   "id": "317da42c",
   "metadata": {},
   "outputs": [],
   "source": [
    "exp_x = np.array([0,1,0,0,1, 1,0,0,0,0, 1,1,1,0,1, 0,1,1])\n",
    "exp_x = out\n",
    "print(exp_x.shape)"
   ]
  },
  {
   "cell_type": "code",
   "execution_count": null,
   "id": "c10a872a",
   "metadata": {},
   "outputs": [],
   "source": [
    "np.matmul(exp_x.transpose(), np.matmul(problem_unitary, exp_x))"
   ]
  },
  {
   "cell_type": "code",
   "execution_count": null,
   "id": "62c21df7",
   "metadata": {},
   "outputs": [],
   "source": [
    "problem_unitary.shape"
   ]
  },
  {
   "cell_type": "code",
   "execution_count": null,
   "id": "bb0d6d87",
   "metadata": {},
   "outputs": [],
   "source": []
  }
 ],
 "metadata": {
  "kernelspec": {
   "display_name": "Python 3",
   "language": "python",
   "name": "python3"
  },
  "language_info": {
   "codemirror_mode": {
    "name": "ipython",
    "version": 3
   },
   "file_extension": ".py",
   "mimetype": "text/x-python",
   "name": "python",
   "nbconvert_exporter": "python",
   "pygments_lexer": "ipython3",
   "version": "3.8.8"
  }
 },
 "nbformat": 4,
 "nbformat_minor": 5
}
