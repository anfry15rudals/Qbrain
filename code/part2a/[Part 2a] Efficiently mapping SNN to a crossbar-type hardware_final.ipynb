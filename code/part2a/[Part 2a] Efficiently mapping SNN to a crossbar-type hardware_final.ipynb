{
 "cells": [
  {
   "cell_type": "code",
   "execution_count": 10,
   "id": "1d36c093",
   "metadata": {},
   "outputs": [],
   "source": [
    "from qiskit import BasicAer\n",
    "from qiskit.utils import algorithm_globals, QuantumInstance\n",
    "from qiskit.algorithms import QAOA, NumPyMinimumEigensolver\n",
    "from qiskit_optimization.algorithms import (\n",
    "    MinimumEigenOptimizer,\n",
    "    RecursiveMinimumEigenOptimizer,\n",
    "    SolutionSample,\n",
    "    OptimizationResultStatus,\n",
    ")\n",
    "from qiskit_optimization import QuadraticProgram\n",
    "from qiskit.visualization import plot_histogram\n",
    "from typing import List, Tuple\n",
    "import numpy as np\n",
    "import pickle\n",
    "import matplotlib.pyplot as plt\n",
    "import networkx as nx"
   ]
  },
  {
   "cell_type": "code",
   "execution_count": 11,
   "id": "62cbcc76",
   "metadata": {},
   "outputs": [],
   "source": [
    "# create a QUBO\n",
    "qubo = QuadraticProgram()\n",
    "for i in range(6):\n",
    "    st = 'x{}'.format(i+1)\n",
    "    qubo.binary_var(st)\n",
    "for i in range(6):\n",
    "    st = 'y{}'.format(i+1)\n",
    "    qubo.binary_var(st)\n",
    "for i in range(6):\n",
    "    st = 'z{}'.format(i+1)\n",
    "    qubo.binary_var(st)"
   ]
  },
  {
   "cell_type": "code",
   "execution_count": 12,
   "id": "b9141792",
   "metadata": {},
   "outputs": [],
   "source": [
    "with open('Graph_data.pkl', 'rb') as f:\n",
    "    gdata = pickle.load(f)\n",
    "edge_lists = gdata['edge_list']"
   ]
  },
  {
   "cell_type": "code",
   "execution_count": 13,
   "id": "303d8bce",
   "metadata": {},
   "outputs": [
    {
     "data": {
      "image/png": "[encoded data removed]",
      "text/plain": [
       "<Figure size 432x288 with 1 Axes>"
      ]
     },
     "metadata": {},
     "output_type": "display_data"
    }
   ],
   "source": [
    "G = nx.Graph()\n",
    "G.add_nodes_from([0, 1, 2, 3, 4, 5])\n",
    "G.add_weighted_edges_from([(0, 1, 21), (1, 2, 17), (1, 3, 15), (2, 4, 25), (3, 5, 27)])\n",
    "labels = nx.get_edge_attributes(G,'weight')\n",
    "pos=nx.spring_layout(G)\n",
    "nx.draw_networkx(G,pos)\n",
    "labels = nx.get_edge_attributes(G,'weight')\n",
    "nx.draw_networkx_edge_labels(G,pos,edge_labels=labels)\n",
    "plt.show()"
   ]
  },
  {
   "cell_type": "code",
   "execution_count": 15,
   "id": "1cd07323",
   "metadata": {},
   "outputs": [],
   "source": [
    "import scipy.sparse\n",
    "\n",
    "# G = nx.DiGraph()\n",
    "# G.add_nodes_from(range(9))\n",
    "# G.add_weighted_edges_from(edge_lists)\n",
    "\n",
    "# nodelist = list(G)\n",
    "# A = nx.to_scipy_sparse_matrix(G, nodelist=nodelist, weight=\"weight\", format=\"csr\")\n",
    "# n, m = A.shape\n",
    "# diags = A.sum(axis=0)  # 1 = outdegree, 0 = indegree\n",
    "# D = scipy.sparse.spdiags(diags.flatten(), [0], m, n, format=\"csr\")\n",
    "\n",
    "# L = (A - D).todense()\n",
    "\n",
    "L = np.array([[ 21, -21,   0,   0,   0,   0],\n",
    "        [-21,  53, -17, -15,   0,   0],\n",
    "        [  0, -17,  42,   0, -25,   0],\n",
    "        [  0, -15,   0,  42,   0, -27],\n",
    "        [  0,   0, -25,   0,  25,   0],\n",
    "        [  0,   0,   0, -27,   0,  27]])\n",
    "maxv = np.abs(L).max()\n",
    "L = L / maxv\n",
    "L = L * np.pi\n",
    "\n",
    "# print((A - D).todense())\n",
    "# [[-2  1  1]\n",
    "\n",
    "coeff = {}\n",
    "for i in range(6):\n",
    "    for j in range(6):\n",
    "        coeff['x{}x{}'.format(i+1,j+1)] = L[i,j] + 1\n",
    "        coeff['y{}y{}'.format(i+1,j+1)] = L[i,j] + 1\n",
    "        coeff['z{}z{}'.format(i+1,j+1)] = L[i,j] + 1\n",
    "        if i == j:\n",
    "            coeff['x{}x{}'.format(i+1,j+1)] += 1\n",
    "            coeff['y{}y{}'.format(i+1,j+1)] += 1\n",
    "            coeff['z{}z{}'.format(i+1,j+1)] += 1\n",
    "            \n",
    "        coeff['x{}y{}'.format(i+1,i+1)] = 2\n",
    "        coeff['x{}z{}'.format(i+1,i+1)] = 2\n",
    "        coeff['y{}z{}'.format(i+1,i+1)] = 2"
   ]
  },
  {
   "cell_type": "code",
   "execution_count": 16,
   "id": "a49fc36a",
   "metadata": {
    "scrolled": true
   },
   "outputs": [],
   "source": [
    "quad = {}\n",
    "for k in list(coeff.keys()):\n",
    "    xvar1 = k[:2]\n",
    "    xvar2 = k[2:]\n",
    "    quad[(xvar1, xvar2)] = coeff[k]"
   ]
  },
  {
   "cell_type": "code",
   "execution_count": 17,
   "id": "cd65459a",
   "metadata": {},
   "outputs": [],
   "source": [
    "# quadz"
   ]
  },
  {
   "cell_type": "code",
   "execution_count": 18,
   "id": "44d16e8d",
   "metadata": {
    "scrolled": true
   },
   "outputs": [
    {
     "name": "stdout",
     "output_type": "stream",
     "text": [
      "\\ This file has been generated by DOcplex\n",
      "\\ ENCODING=ISO-8859-1\n",
      "\\Problem name: CPLEX\n",
      "\n",
      "Minimize\n",
      " obj: - 8 x1 - 8 x2 - 8 x3 - 8 x4 - 8 x5 - 8 x6 - 8 y1 - 8 y2 - 8 y3 - 8 y4\n",
      "      - 8 y5 - 8 y6 - 8 z1 - 8 z2 - 8 z3 - 8 z4 - 8 z5 - 8 z6 + [\n",
      "      6.489563989637 x1^2 - 0.979127979274 x1*x2 + 4 x1*x3 + 4 x1*x4 + 4 x1*x5\n",
      "      + 4 x1*x6 + 4 x1*y1 + 4 x1*z1 + 10.283185307180 x2^2\n",
      "      - 0.030722649889 x2*x3 + 0.443480014804 x2*x4 + 4 x2*x5 + 4 x2*x6\n",
      "      + 4 x2*y2 + 4 x2*z2 + 8.979127979274 x3^2 + 4 x3*x4 - 1.927533308660 x3*x5\n",
      "      + 4 x3*x6 + 4 x3*y3 + 4 x3*z3 + 8.979127979274 x4^2 + 4 x4*x5\n",
      "      - 2.401735973353 x4*x6 + 4 x4*y4 + 4 x4*z4 + 6.963766654330 x5^2 + 4 x5*x6\n",
      "      + 4 x5*y5 + 4 x5*z5 + 7.200867986676 x6^2 + 4 x6*y6 + 4 x6*z6\n",
      "      + 6.489563989637 y1^2 - 0.979127979274 y1*y2 + 4 y1*y3 + 4 y1*y4 + 4 y1*y5\n",
      "      + 4 y1*y6 + 4 y1*z1 + 10.283185307180 y2^2 - 0.030722649889 y2*y3\n",
      "      + 0.443480014804 y2*y4 + 4 y2*y5 + 4 y2*y6 + 4 y2*z2 + 8.979127979274 y3^2\n",
      "      + 4 y3*y4 - 1.927533308660 y3*y5 + 4 y3*y6 + 4 y3*z3 + 8.979127979274 y4^2\n",
      "      + 4 y4*y5 - 2.401735973353 y4*y6 + 4 y4*z4 + 6.963766654330 y5^2 + 4 y5*y6\n",
      "      + 4 y5*z5 + 7.200867986676 y6^2 + 4 y6*z6 + 6.489563989637 z1^2\n",
      "      - 0.979127979274 z1*z2 + 4 z1*z3 + 4 z1*z4 + 4 z1*z5 + 4 z1*z6\n",
      "      + 10.283185307180 z2^2 - 0.030722649889 z2*z3 + 0.443480014804 z2*z4\n",
      "      + 4 z2*z5 + 4 z2*z6 + 8.979127979274 z3^2 + 4 z3*z4 - 1.927533308660 z3*z5\n",
      "      + 4 z3*z6 + 8.979127979274 z4^2 + 4 z4*z5 - 2.401735973353 z4*z6\n",
      "      + 6.963766654330 z5^2 + 4 z5*z6 + 7.200867986676 z6^2 ]/2\n",
      "Subject To\n",
      "\n",
      "Bounds\n",
      " 0 <= x1 <= 1\n",
      " 0 <= x2 <= 1\n",
      " 0 <= x3 <= 1\n",
      " 0 <= x4 <= 1\n",
      " 0 <= x5 <= 1\n",
      " 0 <= x6 <= 1\n",
      " 0 <= y1 <= 1\n",
      " 0 <= y2 <= 1\n",
      " 0 <= y3 <= 1\n",
      " 0 <= y4 <= 1\n",
      " 0 <= y5 <= 1\n",
      " 0 <= y6 <= 1\n",
      " 0 <= z1 <= 1\n",
      " 0 <= z2 <= 1\n",
      " 0 <= z3 <= 1\n",
      " 0 <= z4 <= 1\n",
      " 0 <= z5 <= 1\n",
      " 0 <= z6 <= 1\n",
      "\n",
      "Binaries\n",
      " x1 x2 x3 x4 x5 x6 y1 y2 y3 y4 y5 y6 z1 z2 z3 z4 z5 z6\n",
      "End\n",
      "\n"
     ]
    }
   ],
   "source": [
    "qubo.minimize(linear=[-8 for i in range(6*3)], quadratic=quad)\n",
    "print(qubo.export_as_lp_string())"
   ]
  },
  {
   "cell_type": "code",
   "execution_count": 19,
   "id": "0159ee1c",
   "metadata": {
    "scrolled": true
   },
   "outputs": [
    {
     "name": "stdout",
     "output_type": "stream",
     "text": [
      "offset: -13.164135038860554\n",
      "operator:\n",
      "-0.5 * ZIIIIIIIIIIIIIIIII\n",
      "- 0.4999999999999998 * IZIIIIIIIIIIIIIIII\n",
      "+ 0.5 * ZZIIIIIIIIIIIIIIII\n",
      "- 0.5000000000000003 * IIZIIIIIIIIIIIIIII\n",
      "- 0.3002169966690983 * ZIZIIIIIIIIIIIIIII\n",
      "+ 0.5 * IZZIIIIIIIIIIIIIII\n",
      "- 0.5000000000000002 * IIIZIIIIIIIIIIIIII\n",
      "+ 0.5 * ZIIZIIIIIIIIIIIIII\n",
      "- 0.24094166358249836 * IZIZIIIIIIIIIIIIII\n",
      "+ 0.5 * IIZZIIIIIIIIIIIIII\n",
      "- 0.5000000000000002 * IIIIZIIIIIIIIIIIII\n",
      "+ 0.5 * ZIIIZIIIIIIIIIIIII\n",
      "+ 0.5 * IZIIZIIIIIIIIIIIII\n",
      "+ 0.05543500185050099 * IIZIZIIIIIIIIIIIII\n",
      "- 0.0038403312360988373 * IIIZZIIIIIIIIIIIII\n",
      "- 0.4999999999999998 * IIIIIZIIIIIIIIIIII\n",
      "+ 0.5 * ZIIIIZIIIIIIIIIIII\n",
      "+ 0.5 * IZIIIZIIIIIIIIIIII\n",
      "+ 0.5 * IIZIIZIIIIIIIIIIII\n",
      "+ 0.5 * IIIZIZIIIIIIIIIIII\n",
      "- 0.12239099740929871 * IIIIZZIIIIIIIIIIII\n",
      "- 0.5 * IIIIIIZIIIIIIIIIII\n",
      "+ 0.5 * ZIIIIIZIIIIIIIIIII\n",
      "- 0.4999999999999999 * IIIIIIIZIIIIIIIIII\n",
      "+ 0.5 * IZIIIIIZIIIIIIIIII\n",
      "+ 0.5 * IIIIIIZZIIIIIIIIII\n",
      "- 0.5000000000000003 * IIIIIIIIZIIIIIIIII\n",
      "+ 0.5 * IIZIIIIIZIIIIIIIII\n",
      "- 0.3002169966690983 * IIIIIIZIZIIIIIIIII\n",
      "+ 0.5 * IIIIIIIZZIIIIIIIII\n",
      "- 0.5000000000000002 * IIIIIIIIIZIIIIIIII\n",
      "+ 0.5 * IIIZIIIIIZIIIIIIII\n",
      "+ 0.5 * IIIIIIZIIZIIIIIIII\n",
      "- 0.24094166358249836 * IIIIIIIZIZIIIIIIII\n",
      "+ 0.5 * IIIIIIIIZZIIIIIIII\n",
      "- 0.5000000000000002 * IIIIIIIIIIZIIIIIII\n",
      "+ 0.5 * IIIIZIIIIIZIIIIIII\n",
      "+ 0.5 * IIIIIIZIIIZIIIIIII\n",
      "+ 0.5 * IIIIIIIZIIZIIIIIII\n",
      "+ 0.05543500185050099 * IIIIIIIIZIZIIIIIII\n",
      "- 0.0038403312360988373 * IIIIIIIIIZZIIIIIII\n",
      "- 0.5 * IIIIIIIIIIIZIIIIII\n",
      "+ 0.5 * IIIIIZIIIIIZIIIIII\n",
      "+ 0.5 * IIIIIIZIIIIZIIIIII\n",
      "+ 0.5 * IIIIIIIZIIIZIIIIII\n",
      "+ 0.5 * IIIIIIIIZIIZIIIIII\n",
      "+ 0.5 * IIIIIIIIIZIZIIIIII\n",
      "- 0.12239099740929871 * IIIIIIIIIIZZIIIIII\n",
      "- 0.5 * IIIIIIIIIIIIZIIIII\n",
      "+ 0.5 * ZIIIIIIIIIIIZIIIII\n",
      "+ 0.5 * IIIIIIZIIIIIZIIIII\n",
      "- 0.5 * IIIIIIIIIIIIIZIIII\n",
      "+ 0.5 * IZIIIIIIIIIIIZIIII\n",
      "+ 0.5 * IIIIIIIZIIIIIZIIII\n",
      "+ 0.5 * IIIIIIIIIIIIZZIIII\n",
      "- 0.5000000000000003 * IIIIIIIIIIIIIIZIII\n",
      "+ 0.5 * IIZIIIIIIIIIIIZIII\n",
      "+ 0.5 * IIIIIIIIZIIIIIZIII\n",
      "- 0.3002169966690983 * IIIIIIIIIIIIZIZIII\n",
      "+ 0.5 * IIIIIIIIIIIIIZZIII\n",
      "- 0.5000000000000004 * IIIIIIIIIIIIIIIZII\n",
      "+ 0.5 * IIIZIIIIIIIIIIIZII\n",
      "+ 0.5 * IIIIIIIIIZIIIIIZII\n",
      "+ 0.5 * IIIIIIIIIIIIZIIZII\n",
      "- 0.24094166358249836 * IIIIIIIIIIIIIZIZII\n",
      "+ 0.5 * IIIIIIIIIIIIIIZZII\n",
      "- 0.5000000000000002 * IIIIIIIIIIIIIIIIZI\n",
      "+ 0.5 * IIIIZIIIIIIIIIIIZI\n",
      "+ 0.5 * IIIIIIIIIIZIIIIIZI\n",
      "+ 0.5 * IIIIIIIIIIIIZIIIZI\n",
      "+ 0.5 * IIIIIIIIIIIIIZIIZI\n",
      "+ 0.05543500185050099 * IIIIIIIIIIIIIIZIZI\n",
      "- 0.0038403312360988373 * IIIIIIIIIIIIIIIZZI\n",
      "- 0.5 * IIIIIIIIIIIIIIIIIZ\n",
      "+ 0.5 * IIIIIZIIIIIIIIIIIZ\n",
      "+ 0.5 * IIIIIIIIIIIZIIIIIZ\n",
      "+ 0.5 * IIIIIIIIIIIIZIIIIZ\n",
      "+ 0.5 * IIIIIIIIIIIIIZIIIZ\n",
      "+ 0.5 * IIIIIIIIIIIIIIZIIZ\n",
      "+ 0.5 * IIIIIIIIIIIIIIIZIZ\n",
      "- 0.12239099740929871 * IIIIIIIIIIIIIIIIZZ\n"
     ]
    }
   ],
   "source": [
    "op, offset = qubo.to_ising()\n",
    "print(\"offset: {}\".format(offset))\n",
    "print(\"operator:\")\n",
    "print(op)"
   ]
  },
  {
   "cell_type": "code",
   "execution_count": 20,
   "id": "b267a680",
   "metadata": {
    "scrolled": true
   },
   "outputs": [
    {
     "name": "stdout",
     "output_type": "stream",
     "text": [
      "\\ This file has been generated by DOcplex\n",
      "\\ ENCODING=ISO-8859-1\n",
      "\\Problem name: CPLEX\n",
      "\n",
      "Minimize\n",
      " obj: - 4.755218005181 x0 - 2.858407346410 x1 - 3.510436010363 x2\n",
      "      - 3.510436010363 x3 - 4.518116672835 x4 - 4.399566006662 x5\n",
      "      - 4.755218005181 x6 - 2.858407346410 x7 - 3.510436010363 x8\n",
      "      - 3.510436010363 x9 - 4.518116672835 x10 - 4.399566006662 x11\n",
      "      - 4.755218005181 x12 - 2.858407346410 x13 - 3.510436010363 x14\n",
      "      - 3.510436010363 x15 - 4.518116672835 x16 - 4.399566006662 x17 + [\n",
      "      - 0.979127979274 x0*x1 + 4 x0*x2 + 4 x0*x3 + 4 x0*x4 + 4 x0*x5 + 4 x0*x6\n",
      "      + 4 x0*x12 - 0.030722649889 x1*x2 + 0.443480014804 x1*x3 + 4 x1*x4\n",
      "      + 4 x1*x5 + 4 x1*x7 + 4 x1*x13 + 4 x2*x3 - 1.927533308660 x2*x4 + 4 x2*x5\n",
      "      + 4 x2*x8 + 4 x2*x14 + 4 x3*x4 - 2.401735973353 x3*x5 + 4 x3*x9 + 4 x3*x15\n",
      "      + 4 x4*x5 + 4 x4*x10 + 4 x4*x16 + 4 x5*x11 + 4 x5*x17\n",
      "      - 0.979127979274 x6*x7 + 4 x6*x8 + 4 x6*x9 + 4 x6*x10 + 4 x6*x11\n",
      "      + 4 x6*x12 - 0.030722649889 x7*x8 + 0.443480014804 x7*x9 + 4 x7*x10\n",
      "      + 4 x7*x11 + 4 x7*x13 + 4 x8*x9 - 1.927533308660 x8*x10 + 4 x8*x11\n",
      "      + 4 x8*x14 + 4 x9*x10 - 2.401735973353 x9*x11 + 4 x9*x15 + 4 x10*x11\n",
      "      + 4 x10*x16 + 4 x11*x17 - 0.979127979274 x12*x13 + 4 x12*x14 + 4 x12*x15\n",
      "      + 4 x12*x16 + 4 x12*x17 - 0.030722649889 x13*x14 + 0.443480014804 x13*x15\n",
      "      + 4 x13*x16 + 4 x13*x17 + 4 x14*x15 - 1.927533308660 x14*x16 + 4 x14*x17\n",
      "      + 4 x15*x16 - 2.401735973353 x15*x17 + 4 x16*x17 ]/2 -0.000000000000\n",
      "Subject To\n",
      "\n",
      "Bounds\n",
      " 0 <= x0 <= 1\n",
      " 0 <= x1 <= 1\n",
      " 0 <= x2 <= 1\n",
      " 0 <= x3 <= 1\n",
      " 0 <= x4 <= 1\n",
      " 0 <= x5 <= 1\n",
      " 0 <= x6 <= 1\n",
      " 0 <= x7 <= 1\n",
      " 0 <= x8 <= 1\n",
      " 0 <= x9 <= 1\n",
      " 0 <= x10 <= 1\n",
      " 0 <= x11 <= 1\n",
      " 0 <= x12 <= 1\n",
      " 0 <= x13 <= 1\n",
      " 0 <= x14 <= 1\n",
      " 0 <= x15 <= 1\n",
      " 0 <= x16 <= 1\n",
      " 0 <= x17 <= 1\n",
      "\n",
      "Binaries\n",
      " x0 x1 x2 x3 x4 x5 x6 x7 x8 x9 x10 x11 x12 x13 x14 x15 x16 x17\n",
      "End\n",
      "\n"
     ]
    }
   ],
   "source": [
    "qp = QuadraticProgram()\n",
    "qp.from_ising(op, offset, linear=True)\n",
    "print(qp.export_as_lp_string())"
   ]
  },
  {
   "cell_type": "code",
   "execution_count": 21,
   "id": "b958a07f",
   "metadata": {},
   "outputs": [],
   "source": [
    "# from qiskit import IBMQ\n",
    "# from qiskit.providers.ibmq import least_busy\n",
    "# ibm_token = '49670f985b02b984d52967234a8d86aa4f49519731f6a3b1b9b5c2afffde9d8f34d46e6df77cf8ec96e1adf36aadeaf8a6c4a73665cfb2945627ed954451f473' # https://quantum-computing.ibm.com/account\n",
    "# ibmq_account = IBMQ.enable_account(ibm_token)\n",
    "# ibmq_provider = IBMQ.get_provider(hub='ibm-q-skku', group='snu', project='snu-graduate')"
   ]
  },
  {
   "cell_type": "code",
   "execution_count": 22,
   "id": "2b9adb97",
   "metadata": {},
   "outputs": [],
   "source": [
    "# ibmq_backend = ibmq_provider.get_backend('ibm_washington')\n",
    "backend = BasicAer.get_backend('qasm_simulator')"
   ]
  },
  {
   "cell_type": "code",
   "execution_count": 27,
   "id": "43ebf560",
   "metadata": {},
   "outputs": [],
   "source": [
    "algorithm_globals.random_seed = 10598\n",
    "algorithm_globals.massive=True\n",
    "quantum_instance = QuantumInstance(\n",
    "    backend,\n",
    "    seed_simulator=algorithm_globals.random_seed,\n",
    "    seed_transpiler=algorithm_globals.random_seed,\n",
    ")\n",
    "qaoa_mes = QAOA(quantum_instance=quantum_instance, initial_point=[0.5, 0.5])\n",
    "exact_mes = NumPyMinimumEigensolver()"
   ]
  },
  {
   "cell_type": "code",
   "execution_count": 28,
   "id": "a9e476e3",
   "metadata": {},
   "outputs": [],
   "source": [
    "qaoa = MinimumEigenOptimizer(qaoa_mes)  # using QAOA\n",
    "exact = MinimumEigenOptimizer(exact_mes)  # using the exact classical numpy minimum eigen solver"
   ]
  },
  {
   "cell_type": "code",
   "execution_count": 29,
   "id": "e3106f6a",
   "metadata": {},
   "outputs": [
    {
     "name": "stdout",
     "output_type": "stream",
     "text": [
      "optimal function value: -23.49507468541841\n",
      "optimal value: [0. 1. 0. 1. 0. 1. 1. 0. 0. 0. 0. 0. 0. 0. 1. 0. 1. 0.]\n",
      "status: SUCCESS\n"
     ]
    }
   ],
   "source": [
    "qaoa_result = qaoa.solve(qubo)\n",
    "print(qaoa_result)"
   ]
  },
  {
   "cell_type": "code",
   "execution_count": 30,
   "id": "ddab8f60",
   "metadata": {},
   "outputs": [
    {
     "data": {
      "text/plain": [
       "array([[0., 1., 0., 1., 0., 1.],\n",
       "       [1., 0., 0., 0., 0., 0.],\n",
       "       [0., 0., 1., 0., 1., 0.]])"
      ]
     },
     "execution_count": 30,
     "metadata": {},
     "output_type": "execute_result"
    }
   ],
   "source": [
    "np.array(qaoa_result.x).reshape(-1,6)"
   ]
  },
  {
   "cell_type": "code",
   "execution_count": 31,
   "id": "d979decd",
   "metadata": {},
   "outputs": [
    {
     "ename": "AttributeError",
     "evalue": "'MinimumEigenOptimizationResult' object has no attribute 'reshape'",
     "output_type": "error",
     "traceback": [
      "\u001b[1;31m---------------------------------------------------------------------------\u001b[0m",
      "\u001b[1;31mAttributeError\u001b[0m                            Traceback (most recent call last)",
      "\u001b[1;32m<ipython-input-31-f2e05e25de1d>\u001b[0m in \u001b[0;36m<module>\u001b[1;34m\u001b[0m\n\u001b[0;32m      1\u001b[0m \u001b[0mexact_result\u001b[0m \u001b[1;33m=\u001b[0m \u001b[0mexact\u001b[0m\u001b[1;33m.\u001b[0m\u001b[0msolve\u001b[0m\u001b[1;33m(\u001b[0m\u001b[0mqubo\u001b[0m\u001b[1;33m)\u001b[0m\u001b[1;33m\u001b[0m\u001b[1;33m\u001b[0m\u001b[0m\n\u001b[1;32m----> 2\u001b[1;33m \u001b[0mprint\u001b[0m\u001b[1;33m(\u001b[0m\u001b[0mexact_result\u001b[0m\u001b[1;33m.\u001b[0m\u001b[0mreshape\u001b[0m\u001b[1;33m(\u001b[0m\u001b[1;33m-\u001b[0m\u001b[1;36m1\u001b[0m\u001b[1;33m,\u001b[0m\u001b[1;36m6\u001b[0m\u001b[1;33m)\u001b[0m\u001b[1;33m)\u001b[0m\u001b[1;33m\u001b[0m\u001b[1;33m\u001b[0m\u001b[0m\n\u001b[0m",
      "\u001b[1;31mAttributeError\u001b[0m: 'MinimumEigenOptimizationResult' object has no attribute 'reshape'"
     ]
    }
   ],
   "source": [
    "exact_result = exact.solve(qubo)\n",
    "print(exact_result.x.reshape(-1,6))"
   ]
  },
  {
   "cell_type": "code",
   "execution_count": 34,
   "id": "80288df8",
   "metadata": {},
   "outputs": [
    {
     "data": {
      "text/plain": [
       "array([[1., 1., 0., 0., 0., 0.],\n",
       "       [0., 0., 1., 0., 1., 0.],\n",
       "       [0., 0., 0., 1., 0., 1.]])"
      ]
     },
     "execution_count": 34,
     "metadata": {},
     "output_type": "execute_result"
    }
   ],
   "source": [
    "exact_result.x.reshape(-1,6)"
   ]
  },
  {
   "cell_type": "code",
   "execution_count": null,
   "id": "c8f4cc36",
   "metadata": {},
   "outputs": [],
   "source": [
    "# print(\"variable order:\", [var.name for var in qaoa_result.variables])\n",
    "# for s in qaoa_result.samples:\n",
    "#     print(s)"
   ]
  },
  {
   "cell_type": "code",
   "execution_count": null,
   "id": "0698059a",
   "metadata": {},
   "outputs": [],
   "source": [
    "# def get_filtered_samples(\n",
    "#     samples: List[SolutionSample],\n",
    "#     threshold: float = 0,\n",
    "#     allowed_status: Tuple[OptimizationResultStatus] = (OptimizationResultStatus.SUCCESS,),\n",
    "# ):\n",
    "#     res = []\n",
    "#     for s in samples:\n",
    "#         if s.status in allowed_status and s.probability > threshold:\n",
    "#             res.append(s)\n",
    "\n",
    "#     return res"
   ]
  },
  {
   "cell_type": "code",
   "execution_count": null,
   "id": "97abddc7",
   "metadata": {},
   "outputs": [],
   "source": [
    "# filtered_samples = get_filtered_samples(\n",
    "#     qaoa_result.samples, threshold=0.005, allowed_status=(OptimizationResultStatus.SUCCESS,)\n",
    "# )\n",
    "# for s in filtered_samples:\n",
    "#     print(s)"
   ]
  },
  {
   "cell_type": "code",
   "execution_count": null,
   "id": "289e5c06",
   "metadata": {},
   "outputs": [],
   "source": [
    "# fvals = [s.fval for s in qaoa_result.samples]\n",
    "# probabilities = [s.probability for s in qaoa_result.samples]"
   ]
  },
  {
   "cell_type": "code",
   "execution_count": null,
   "id": "3ca96277",
   "metadata": {},
   "outputs": [],
   "source": [
    "# np.mean(fvals)"
   ]
  },
  {
   "cell_type": "code",
   "execution_count": null,
   "id": "5aeb960c",
   "metadata": {},
   "outputs": [],
   "source": [
    "# np.std(fvals)"
   ]
  },
  {
   "cell_type": "code",
   "execution_count": null,
   "id": "5085c322",
   "metadata": {},
   "outputs": [],
   "source": [
    "# samples_for_plot = {\n",
    "#     \" \".join(f\"{qaoa_result.variables[i].name}={int(v)}\" for i, v in enumerate(s.x)): s.probability\n",
    "#     for s in filtered_samples\n",
    "# }\n",
    "# samples_for_plot"
   ]
  },
  {
   "cell_type": "code",
   "execution_count": null,
   "id": "34fb8f1e",
   "metadata": {},
   "outputs": [],
   "source": [
    "# plot_histogram(samples_for_plot)"
   ]
  },
  {
   "cell_type": "code",
   "execution_count": null,
   "id": "ebb9500a",
   "metadata": {},
   "outputs": [],
   "source": [
    "# rqaoa = RecursiveMinimumEigenOptimizer(qaoa, min_num_vars=1, min_num_vars_optimizer=exact)"
   ]
  },
  {
   "cell_type": "code",
   "execution_count": null,
   "id": "93287846",
   "metadata": {},
   "outputs": [],
   "source": [
    "# rqaoa_result = rqaoa.solve(qubo)\n",
    "# print(rqaoa_result)"
   ]
  },
  {
   "cell_type": "code",
   "execution_count": null,
   "id": "3d0ca7ef",
   "metadata": {},
   "outputs": [],
   "source": [
    "# filtered_samples = get_filtered_samples(\n",
    "#     rqaoa_result.samples, threshold=0.005, allowed_status=(OptimizationResultStatus.SUCCESS,)\n",
    "# )"
   ]
  },
  {
   "cell_type": "code",
   "execution_count": null,
   "id": "85434932",
   "metadata": {},
   "outputs": [],
   "source": [
    "# samples_for_plot = {\n",
    "#     \" \".join(f\"{rqaoa_result.variables[i].name}={int(v)}\" for i, v in enumerate(s.x)): s.probability\n",
    "#     for s in filtered_samples\n",
    "# }\n",
    "# samples_for_plot"
   ]
  },
  {
   "cell_type": "code",
   "execution_count": null,
   "id": "370a3407",
   "metadata": {},
   "outputs": [],
   "source": [
    "# plot_histogram(samples_for_plot)"
   ]
  }
 ],
 "metadata": {
  "kernelspec": {
   "display_name": "Python 3",
   "language": "python",
   "name": "python3"
  },
  "language_info": {
   "codemirror_mode": {
    "name": "ipython",
    "version": 3
   },
   "file_extension": ".py",
   "mimetype": "text/x-python",
   "name": "python",
   "nbconvert_exporter": "python",
   "pygments_lexer": "ipython3",
   "version": "3.8.8"
  }
 },
 "nbformat": 4,
 "nbformat_minor": 5
}
