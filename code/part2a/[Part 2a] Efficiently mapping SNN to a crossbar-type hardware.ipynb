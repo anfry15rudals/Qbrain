{
 "cells": [
  {
   "cell_type": "code",
   "execution_count": 124,
   "id": "de306710",
   "metadata": {},
   "outputs": [],
   "source": [
    "import numpy as np\n",
    "import networkx as nx\n",
    "import matplotlib.pyplot as plt\n",
    "\n",
    "from qiskit import QuantumCircuit, ClassicalRegister, QuantumRegister\n",
    "from qiskit import Aer, execute\n",
    "from qiskit.circuit import Parameter\n",
    "\n",
    "from itertools import product"
   ]
  },
  {
   "cell_type": "code",
   "execution_count": 125,
   "id": "586f085e",
   "metadata": {},
   "outputs": [],
   "source": [
    "# # Graph example A: a graph with 9 nodes\n",
    "# G = nx.Graph()\n",
    "# G.add_nodes_from([0, 1, 2, 3, 4, 5, 6, 7, 8])\n",
    "# G.add_weighted_edges_from([(0, 1, 21), (0, 2, 25), (1, 3, 13), (2, 4, 11), (3, 5, 24), (3, 6, 23), (2, 4, 11), (4, 7, 27), (4, 8, 22)])\n",
    "# labels = nx.get_edge_attributes(G,'weight')\n",
    "# nx.draw(G, with_labels=True, alpha=0.8, node_size=500)"
   ]
  },
  {
   "cell_type": "code",
   "execution_count": 126,
   "id": "7c554710",
   "metadata": {},
   "outputs": [
    {
     "data": {
      "image/png": "[encoded data removed]",
      "text/plain": [
       "<Figure size 432x288 with 1 Axes>"
      ]
     },
     "metadata": {},
     "output_type": "display_data"
    }
   ],
   "source": [
    "# Graph example B: a graph with 6 nodes\n",
    "G = nx.Graph()\n",
    "G.add_nodes_from([0, 1, 2, 3, 4, 5])\n",
    "G.add_weighted_edges_from([(0, 1, 21), (1, 2, 17), (1, 3, 15), (2, 4, 25), (3, 5, 27)])\n",
    "labels = nx.get_edge_attributes(G,'weight')\n",
    "nx.draw(G, with_labels=True, alpha=0.8, node_size=500)"
   ]
  },
  {
   "cell_type": "code",
   "execution_count": 127,
   "id": "14157ddf",
   "metadata": {},
   "outputs": [
    {
     "name": "stdout",
     "output_type": "stream",
     "text": [
      "[[ 0 21  0  0  0  0]\n",
      " [21  0 17 15  0  0]\n",
      " [ 0 17  0  0 25  0]\n",
      " [ 0 15  0  0  0 27]\n",
      " [ 0  0 25  0  0  0]\n",
      " [ 0  0  0 27  0  0]]\n"
     ]
    },
    {
     "name": "stderr",
     "output_type": "stream",
     "text": [
      "/var/folders/mg/8gpvb2h14g715mgrnnm1rp940000gn/T/ipykernel_89831/2614419114.py:1: FutureWarning: adjacency_matrix will return a scipy.sparse array instead of a matrix in Networkx 3.0.\n",
      "  adjacency = nx.adjacency_matrix(G).todense()\n"
     ]
    }
   ],
   "source": [
    "adjacency = nx.adjacency_matrix(G).todense()\n",
    "nnodes = G.number_of_nodes()\n",
    "nclusters = 3\n",
    "nqubits = nnodes * nclusters\n",
    "print(adjacency)"
   ]
  },
  {
   "cell_type": "markdown",
   "id": "5c11d566",
   "metadata": {},
   "source": [
    "## Mixing Unitary"
   ]
  },
  {
   "cell_type": "code",
   "execution_count": 128,
   "id": "af618e2b",
   "metadata": {},
   "outputs": [
    {
     "data": {
      "text/html": [
       "<pre style=\"word-wrap: normal;white-space: pre;background: #fff0;line-height: 1.1;font-family: &quot;Courier New&quot;,Courier,monospace\">      ┌───────────────┐\n",
       " q_0: ┤ Rx(2*$\\beta$) ├\n",
       "      ├───────────────┤\n",
       " q_1: ┤ Rx(2*$\\beta$) ├\n",
       "      ├───────────────┤\n",
       " q_2: ┤ Rx(2*$\\beta$) ├\n",
       "      ├───────────────┤\n",
       " q_3: ┤ Rx(2*$\\beta$) ├\n",
       "      ├───────────────┤\n",
       " q_4: ┤ Rx(2*$\\beta$) ├\n",
       "      ├───────────────┤\n",
       " q_5: ┤ Rx(2*$\\beta$) ├\n",
       "      ├───────────────┤\n",
       " q_6: ┤ Rx(2*$\\beta$) ├\n",
       "      ├───────────────┤\n",
       " q_7: ┤ Rx(2*$\\beta$) ├\n",
       "      ├───────────────┤\n",
       " q_8: ┤ Rx(2*$\\beta$) ├\n",
       "      ├───────────────┤\n",
       " q_9: ┤ Rx(2*$\\beta$) ├\n",
       "      ├───────────────┤\n",
       "q_10: ┤ Rx(2*$\\beta$) ├\n",
       "      ├───────────────┤\n",
       "q_11: ┤ Rx(2*$\\beta$) ├\n",
       "      ├───────────────┤\n",
       "q_12: ┤ Rx(2*$\\beta$) ├\n",
       "      ├───────────────┤\n",
       "q_13: ┤ Rx(2*$\\beta$) ├\n",
       "      ├───────────────┤\n",
       "q_14: ┤ Rx(2*$\\beta$) ├\n",
       "      ├───────────────┤\n",
       "q_15: ┤ Rx(2*$\\beta$) ├\n",
       "      ├───────────────┤\n",
       "q_16: ┤ Rx(2*$\\beta$) ├\n",
       "      ├───────────────┤\n",
       "q_17: ┤ Rx(2*$\\beta$) ├\n",
       "      └───────────────┘</pre>"
      ],
      "text/plain": [
       "      ┌───────────────┐\n",
       " q_0: ┤ Rx(2*$\\beta$) ├\n",
       "      ├───────────────┤\n",
       " q_1: ┤ Rx(2*$\\beta$) ├\n",
       "      ├───────────────┤\n",
       " q_2: ┤ Rx(2*$\\beta$) ├\n",
       "      ├───────────────┤\n",
       " q_3: ┤ Rx(2*$\\beta$) ├\n",
       "      ├───────────────┤\n",
       " q_4: ┤ Rx(2*$\\beta$) ├\n",
       "      ├───────────────┤\n",
       " q_5: ┤ Rx(2*$\\beta$) ├\n",
       "      ├───────────────┤\n",
       " q_6: ┤ Rx(2*$\\beta$) ├\n",
       "      ├───────────────┤\n",
       " q_7: ┤ Rx(2*$\\beta$) ├\n",
       "      ├───────────────┤\n",
       " q_8: ┤ Rx(2*$\\beta$) ├\n",
       "      ├───────────────┤\n",
       " q_9: ┤ Rx(2*$\\beta$) ├\n",
       "      ├───────────────┤\n",
       "q_10: ┤ Rx(2*$\\beta$) ├\n",
       "      ├───────────────┤\n",
       "q_11: ┤ Rx(2*$\\beta$) ├\n",
       "      ├───────────────┤\n",
       "q_12: ┤ Rx(2*$\\beta$) ├\n",
       "      ├───────────────┤\n",
       "q_13: ┤ Rx(2*$\\beta$) ├\n",
       "      ├───────────────┤\n",
       "q_14: ┤ Rx(2*$\\beta$) ├\n",
       "      ├───────────────┤\n",
       "q_15: ┤ Rx(2*$\\beta$) ├\n",
       "      ├───────────────┤\n",
       "q_16: ┤ Rx(2*$\\beta$) ├\n",
       "      ├───────────────┤\n",
       "q_17: ┤ Rx(2*$\\beta$) ├\n",
       "      └───────────────┘"
      ]
     },
     "execution_count": 128,
     "metadata": {},
     "output_type": "execute_result"
    }
   ],
   "source": [
    "beta = Parameter(\"$\\\\beta$\")\n",
    "qc_mix = QuantumCircuit(nqubits)\n",
    "for i in range(0, nqubits):\n",
    "    qc_mix.rx(2 * beta, i)\n",
    "    \n",
    "qc_mix.draw()"
   ]
  },
  {
   "cell_type": "markdown",
   "id": "b91799bd",
   "metadata": {},
   "source": [
    "## Problem Unitary (Cost Unitary)"
   ]
  },
  {
   "cell_type": "markdown",
   "id": "0f4a6665",
   "metadata": {},
   "source": [
    "### [1st term of the problem unitary] The term describing the graph geometry: Laplacian matrix"
   ]
  },
  {
   "cell_type": "code",
   "execution_count": 129,
   "id": "fa10468c",
   "metadata": {},
   "outputs": [
    {
     "name": "stdout",
     "output_type": "stream",
     "text": [
      "[[ 21 -21   0   0   0   0]\n",
      " [-21  53 -17 -15   0   0]\n",
      " [  0 -17  42   0 -25   0]\n",
      " [  0 -15   0  42   0 -27]\n",
      " [  0   0 -25   0  25   0]\n",
      " [  0   0   0 -27   0  27]]\n"
     ]
    },
    {
     "data": {
      "text/plain": [
       "<matplotlib.image.AxesImage at 0x7fd15cdae790>"
      ]
     },
     "execution_count": 129,
     "metadata": {},
     "output_type": "execute_result"
    },
    {
     "data": {
      "image/png": "[encoded data removed]",
      "text/plain": [
       "<Figure size 432x288 with 1 Axes>"
      ]
     },
     "metadata": {
      "needs_background": "light"
     },
     "output_type": "display_data"
    }
   ],
   "source": [
    "L = nx.laplacian_matrix(G, nodelist=None, weight='weight').todense()\n",
    "print(L)\n",
    "plt.imshow(L)"
   ]
  },
  {
   "cell_type": "code",
   "execution_count": 130,
   "id": "6e177fe4",
   "metadata": {},
   "outputs": [
    {
     "data": {
      "text/plain": [
       "<matplotlib.image.AxesImage at 0x7fd15cee0910>"
      ]
     },
     "execution_count": 130,
     "metadata": {},
     "output_type": "execute_result"
    },
    {
     "data": {
      "image/png": "[encoded data removed]",
      "text/plain": [
       "<Figure size 432x288 with 1 Axes>"
      ]
     },
     "metadata": {
      "needs_background": "light"
     },
     "output_type": "display_data"
    }
   ],
   "source": [
    "extended_L = np.zeros((nqubits, nqubits))\n",
    "for i in range(nclusters):\n",
    "    extended_L[i*nnodes:(i+1)*nnodes, i*nnodes:(i+1)*nnodes] += L\n",
    "plt.imshow(extended_L)"
   ]
  },
  {
   "cell_type": "markdown",
   "id": "e3045caf",
   "metadata": {},
   "source": [
    "### [2nd term of the problem unitary]  Constraint 1: the number of nodes in each cluster should be the same."
   ]
  },
  {
   "cell_type": "code",
   "execution_count": 131,
   "id": "f2f447a1",
   "metadata": {},
   "outputs": [
    {
     "data": {
      "text/plain": [
       "<matplotlib.image.AxesImage at 0x7fd15d094e80>"
      ]
     },
     "execution_count": 131,
     "metadata": {},
     "output_type": "execute_result"
    },
    {
     "data": {
      "image/png": "[encoded data removed]",
      "text/plain": [
       "<Figure size 432x288 with 1 Axes>"
      ]
     },
     "metadata": {
      "needs_background": "light"
     },
     "output_type": "display_data"
    }
   ],
   "source": [
    "extended_c1 = np.zeros((nqubits, nqubits))\n",
    "\n",
    "# quadratic terms\n",
    "# naturally reduces to linear terms bc 1*1=1 and 0*0=0\n",
    "for i in range(nqubits):\n",
    "    extended_c1[i,i] += 1\n",
    "#plt.imshow(extended_c1)\n",
    "\n",
    "# linear terms\n",
    "small_off_diagonal_matrix = np.ones((nnodes, nnodes))\n",
    "for i in range(nnodes):\n",
    "    small_off_diagonal_matrix[i, i] = 0\n",
    "plt.plot()\n",
    "# plt.imshow(small_off_diagonal_matrix)\n",
    "\n",
    "for i in range(nclusters):\n",
    "    extended_c1[i*nnodes:(i+1)*nnodes, i*nnodes:(i+1)*nnodes] += small_off_diagonal_matrix * (nnodes // nclusters)\n",
    "\n",
    "plt.imshow(extended_c1)"
   ]
  },
  {
   "cell_type": "markdown",
   "id": "857eb1cc",
   "metadata": {},
   "source": [
    "### [3rd term of the problem unitary] Constraint 2: each node should be assigned to exactly one cluster."
   ]
  },
  {
   "cell_type": "code",
   "execution_count": 132,
   "id": "9a4c291c",
   "metadata": {},
   "outputs": [
    {
     "data": {
      "text/plain": [
       "<matplotlib.image.AxesImage at 0x7fd15d19c9d0>"
      ]
     },
     "execution_count": 132,
     "metadata": {},
     "output_type": "execute_result"
    },
    {
     "data": {
      "image/png": "[encoded data removed]",
      "text/plain": [
       "<Figure size 432x288 with 1 Axes>"
      ]
     },
     "metadata": {
      "needs_background": "light"
     },
     "output_type": "display_data"
    }
   ],
   "source": [
    "extended_c2 = np.zeros((nqubits, nqubits))\n",
    "\n",
    "# quadratic terms\n",
    "# naturally reduces to linear terms bc 1*1=1 and 0*0=0\n",
    "for i in range(nqubits):\n",
    "    extended_c2[i,i] += 1\n",
    "\n",
    "# linear terms\n",
    "small_diagonal_matrix = np.zeros((nnodes, nnodes))\n",
    "for i in range(nnodes):\n",
    "    small_diagonal_matrix[i, i] += 1\n",
    "\n",
    "for i, j in product(np.arange(nclusters), np.arange(nclusters)):\n",
    "    if i != j:\n",
    "        extended_c2[i*nnodes: (i+1)*nnodes, j*nnodes: (j+1)*nnodes] += small_diagonal_matrix\n",
    "        \n",
    "plt.imshow(extended_c2)"
   ]
  },
  {
   "cell_type": "markdown",
   "id": "0ade7cc3",
   "metadata": {},
   "source": [
    "### [total problem unitary] Weighted sum of the above 3 matrices"
   ]
  },
  {
   "cell_type": "code",
   "execution_count": 133,
   "id": "926bff5b",
   "metadata": {},
   "outputs": [],
   "source": [
    "constraint_weight = 50\n",
    "problem_unitary = extended_L + constraint_weight * extended_c1 + constraint_weight * 3 * extended_c2"
   ]
  },
  {
   "cell_type": "code",
   "execution_count": 134,
   "id": "e294ca1d",
   "metadata": {},
   "outputs": [
    {
     "data": {
      "text/plain": [
       "<matplotlib.image.AxesImage at 0x7fd15d15fe80>"
      ]
     },
     "execution_count": 134,
     "metadata": {},
     "output_type": "execute_result"
    },
    {
     "data": {
      "image/png": "[encoded data removed]",
      "text/plain": [
       "<Figure size 432x288 with 1 Axes>"
      ]
     },
     "metadata": {
      "needs_background": "light"
     },
     "output_type": "display_data"
    }
   ],
   "source": [
    "plt.imshow(problem_unitary)"
   ]
  },
  {
   "cell_type": "markdown",
   "id": "23f5c4c9",
   "metadata": {},
   "source": [
    "### [total problem unitary] Converting the problem unitary to a quantum circuit\n",
    "Each entry is a weighted ZZ gate"
   ]
  },
  {
   "cell_type": "code",
   "execution_count": null,
   "id": "684492a4",
   "metadata": {},
   "outputs": [],
   "source": []
  },
  {
   "cell_type": "code",
   "execution_count": null,
   "id": "910dc63a",
   "metadata": {},
   "outputs": [],
   "source": []
  }
 ],
 "metadata": {
  "kernelspec": {
   "display_name": "Python 3 (ipykernel)",
   "language": "python",
   "name": "python3"
  },
  "language_info": {
   "codemirror_mode": {
    "name": "ipython",
    "version": 3
   },
   "file_extension": ".py",
   "mimetype": "text/x-python",
   "name": "python",
   "nbconvert_exporter": "python",
   "pygments_lexer": "ipython3",
   "version": "3.9.7"
  }
 },
 "nbformat": 4,
 "nbformat_minor": 5
}
