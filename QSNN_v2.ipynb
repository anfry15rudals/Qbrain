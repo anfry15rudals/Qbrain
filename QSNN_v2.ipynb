{
 "cells": [
  {
   "cell_type": "code",
   "execution_count": 1,
   "id": "ce4b427e",
   "metadata": {},
   "outputs": [],
   "source": [
    "import os    \n",
    "os.environ['KMP_DUPLICATE_LIB_OK']='True'"
   ]
  },
  {
   "cell_type": "code",
   "execution_count": 2,
   "id": "3bd17176",
   "metadata": {},
   "outputs": [],
   "source": [
    "# imports\n",
    "import snntorch as snn\n",
    "from snntorch import spikeplot as splt\n",
    "from snntorch import spikegen\n",
    "\n",
    "import torch\n",
    "import torch.nn as nn\n",
    "from torch.autograd import Function\n",
    "from torch.utils.data import DataLoader, Dataset\n",
    "from torchvision import datasets, transforms\n",
    "import torch.optim as optim\n",
    "import torch.nn.functional as F\n",
    "\n",
    "import matplotlib.pyplot as plt\n",
    "import numpy as np\n",
    "import itertools\n",
    "from sympy import *\n",
    "from tqdm.notebook import tqdm\n",
    "import pickle"
   ]
  },
  {
   "cell_type": "code",
   "execution_count": 3,
   "id": "716edf3f",
   "metadata": {},
   "outputs": [],
   "source": [
    "batch_size = 128\n",
    "data_path='/data/mnist'\n",
    "\n",
    "dtype = torch.float\n",
    "device = torch.device(\"cuda\") if torch.cuda.is_available() else torch.device(\"cpu\")"
   ]
  },
  {
   "cell_type": "code",
   "execution_count": 4,
   "id": "03f1d420",
   "metadata": {},
   "outputs": [],
   "source": [
    "# Define a transform\n",
    "transform = transforms.Compose([\n",
    "            transforms.Resize((28, 28)),\n",
    "            transforms.Grayscale(),\n",
    "            transforms.ToTensor(),\n",
    "            transforms.Normalize((0,), (1,))])\n",
    "\n",
    "train_full = datasets.MNIST(data_path, train=True, download=True, transform=transform)\n",
    "test_full = datasets.MNIST(data_path, train=False, download=True, transform=transform)"
   ]
  },
  {
   "cell_type": "code",
   "execution_count": 5,
   "id": "9e86f6e4",
   "metadata": {},
   "outputs": [],
   "source": [
    "class BinaryData(Dataset):\n",
    "    def __init__(self, x_data, y_data):\n",
    "        self.x_data = torch.from_numpy(x_data)\n",
    "        self.y_data = torch.from_numpy(y_data).type(torch.LongTensor)\n",
    "        self.len = len(self.y_data)\n",
    "\n",
    "    def __getitem__(self, index):\n",
    "        return self.x_data[index], self.y_data[index]\n",
    "\n",
    "    def __len__(self):\n",
    "        return self.len"
   ]
  },
  {
   "cell_type": "code",
   "execution_count": 6,
   "id": "8d8ccaab",
   "metadata": {},
   "outputs": [],
   "source": [
    "# Get indices of samples associated to filtered_classes\n",
    "class_names = train_full.classes\n",
    "filtered_classes = ['3 - three', '6 - six']\n",
    "filtered_labels=[class_names.index(cl) for cl in filtered_classes]\n",
    "\n",
    "train_data = {'x':[], 'y':[]}\n",
    "for xdata, ydata in train_full:  \n",
    "    if ydata in filtered_labels:\n",
    "        train_data['x'].append(xdata.numpy())\n",
    "        if filtered_labels.index(ydata) == 0:\n",
    "            train_data['y'].append(0)\n",
    "        else:\n",
    "            train_data['y'].append(1)\n",
    "        \n",
    "test_data = {'x':[], 'y':[]}\n",
    "for xdata, ydata in test_full:  \n",
    "    if ydata in filtered_labels:\n",
    "        test_data['x'].append(xdata.numpy())\n",
    "        if filtered_labels.index(ydata) == 0:\n",
    "            test_data['y'].append(0)\n",
    "        else:\n",
    "            test_data['y'].append(1)"
   ]
  },
  {
   "cell_type": "code",
   "execution_count": 7,
   "id": "a17e976e",
   "metadata": {},
   "outputs": [],
   "source": [
    "train_dataset = BinaryData(np.array(train_data['x']), np.array(train_data['y']))\n",
    "test_dataset = BinaryData(np.array(test_data['x']), np.array(test_data['y']))"
   ]
  },
  {
   "cell_type": "code",
   "execution_count": 8,
   "id": "f69859a6",
   "metadata": {},
   "outputs": [],
   "source": [
    "# Create DataLoaders\n",
    "train_loader = DataLoader(train_dataset, batch_size=batch_size, shuffle=True, drop_last=True)\n",
    "test_loader = DataLoader(test_dataset, batch_size=batch_size, shuffle=True, drop_last=True)"
   ]
  },
  {
   "cell_type": "code",
   "execution_count": 9,
   "id": "be11f4da",
   "metadata": {},
   "outputs": [],
   "source": [
    "# Temporal Dynamics\n",
    "num_steps = 25\n",
    "beta = 0.99"
   ]
  },
  {
   "cell_type": "markdown",
   "id": "6b8c1189",
   "metadata": {},
   "source": [
    "# Quantum Spike Neural Network"
   ]
  },
  {
   "cell_type": "code",
   "execution_count": 10,
   "id": "8ab19b84",
   "metadata": {},
   "outputs": [],
   "source": [
    "import qiskit\n",
    "import numpy as np\n",
    "import matplotlib.pyplot as plt\n",
    "import math, random, time, itertools\n",
    "from qiskit import QuantumCircuit, QuantumRegister, ClassicalRegister, Aer, transpile, assemble\n",
    "from qiskit.quantum_info.operators import Operator\n",
    "from qiskit.circuit import Parameter, ParameterVector\n",
    "from tqdm.notebook import tqdm\n",
    "from qiskit.opflow import Z, X, I, StateFn, CircuitStateFn, SummedOp, CircuitOp, AerPauliExpectation\n",
    "from qiskit.opflow.gradients import Gradient, NaturalGradient, QFI, Hessian\n",
    "from qiskit_machine_learning.connectors import TorchConnector\n",
    "from qiskit_machine_learning.neural_networks import OpflowQNN\n",
    "from qiskit.utils import QuantumInstance, algorithm_globals"
   ]
  },
  {
   "cell_type": "code",
   "execution_count": 11,
   "id": "0b0ec6bf",
   "metadata": {},
   "outputs": [],
   "source": [
    "class QuantumCircuit_simulator:\n",
    "    def __init__(self):\n",
    "#         self._circuit = qiskit.QuantumCircuit(n_qubits)\n",
    "        \n",
    "#         all_qubits = [i for i in range(n_qubits)]\n",
    "#         self.theta = qiskit.circuit.Parameter('theta')\n",
    "        self.theta = symbols('theta')\n",
    "        self.Y = torch.tensor([[0, -1j], [1j, 0]], dtype=torch.complex128).to(device)\n",
    "        self.H = torch.tensor([[1/np.sqrt(2), 1/np.sqrt(2)], [1/np.sqrt(2), -1/np.sqrt(2)]], dtype=torch.complex128).to(device)\n",
    "        self.init_state = torch.tensor([1,0], dtype=torch.complex128).to(device)\n",
    "        self.init_state = torch.matmul(self.H, self.init_state).reshape(-1,1).to(device)\n",
    "#         self._circuit.h(all_qubits)\n",
    "#         self._circuit.barrier()\n",
    "#         self._circuit.ry(self.theta, all_qubits)\n",
    "        \n",
    "#         self._circuit.measure_all()\n",
    "\n",
    "#         self.backend = backend\n",
    "#         self.shots = shots\n",
    "    \n",
    "    def run(self, thetas):\n",
    "        cosines = torch.cos(thetas/2)\n",
    "        sines = torch.sin(thetas/2)\n",
    "        Rys = [ torch.tensor([[c, -s], [s,c]], dtype=torch.complex128) for c, s in zip(cosines, sines) ]\n",
    "        Rys = torch.stack(Rys, axis=0).to(device)\n",
    "        \n",
    "        out_states = torch.einsum(\"ikj, jl -> ikl\", Rys, self.init_state)\n",
    "        out_probs = (out_states**2).real.squeeze().float()\n",
    "        \n",
    "        states = torch.tensor([0., 1.]).to(device)\n",
    "#         states = np.array(list(result.keys())).astype(float)\n",
    "#         states = 2*(states - 0.5)\n",
    "        # Compute probabilities for each state\n",
    "#         probabilities = counts / self.shots\n",
    "        # Get state expectation\n",
    "        exps = torch.matmul(out_probs, states)\n",
    "        \n",
    "        return exps\n",
    "    \n",
    "    def get_grad(self, thetas):\n",
    "        return torch.cos(thetas/2)**2 - torch.sin(thetas/2)**2"
   ]
  },
  {
   "cell_type": "code",
   "execution_count": 12,
   "id": "3ece8c71",
   "metadata": {},
   "outputs": [
    {
     "name": "stdout",
     "output_type": "stream",
     "text": [
      "Expected value for rotation pi tensor([0.9207, 0.9207, 0.9207, 0.9207, 0.9207, 0.9207, 0.9207, 0.9207, 0.9207,\n",
      "        0.9207])\n"
     ]
    }
   ],
   "source": [
    "circuit_simulator = QuantumCircuit_simulator()\n",
    "print('Expected value for rotation pi {}'.format(circuit_simulator.run(torch.ones(10))))\n",
    "# circuit._circuit.draw('mpl')"
   ]
  },
  {
   "cell_type": "code",
   "execution_count": 13,
   "id": "3ca59a7b",
   "metadata": {},
   "outputs": [],
   "source": [
    "class HybridFunction(torch.autograd.Function):\n",
    "    \"\"\" Hybrid quantum - classical function definition \"\"\"\n",
    "    \n",
    "    @staticmethod\n",
    "    def forward(ctx, inputs, quantum_circuit, shift):\n",
    "        \"\"\" Forward pass computation \"\"\"\n",
    "        ctx.shift = shift\n",
    "        ctx.quantum_circuit = quantum_circuit\n",
    "        result_exp = ctx.quantum_circuit.run(inputs)\n",
    "        ctx.save_for_backward(inputs, result_exp)\n",
    "\n",
    "        return result_exp\n",
    "        \n",
    "    @staticmethod\n",
    "    def backward(ctx, grad_output):\n",
    "        \"\"\" Backward pass computation \"\"\"\n",
    "        inputs, result_exp = ctx.saved_tensors\n",
    "#         input_list = np.array(inputs.tolist())\n",
    "        gradients = ctx.quantum_circuit.get_grad(inputs)\n",
    "        \n",
    "#         shift_right = inputs + torch.ones(inputs.shape) * ctx.shift\n",
    "#         shift_left = inputs - np.ones(inputs.shape) * ctx.shift\n",
    "\n",
    "#         expectation_right = ctx.quantum_circuit.run(shift_right)\n",
    "#         expectation_left  = ctx.quantum_circuit.run(shift_left)\n",
    "#         gradients = expectation_right - expectation_left\n",
    "#         print((grad_output.float() ).shape)\n",
    "        return (gradients.squeeze().float() * grad_output.float()).reshape(-1,1), None, None\n",
    "\n",
    "class Hybrid(nn.Module):\n",
    "    \"\"\" Hybrid quantum - classical layer definition \"\"\"\n",
    "    \n",
    "    def __init__(self, shift):\n",
    "        super(Hybrid, self).__init__()\n",
    "        self.quantum_circuit = QuantumCircuit_simulator()\n",
    "        self.shift = shift\n",
    "        \n",
    "    def forward(self, input):\n",
    "        return HybridFunction.apply(input, self.quantum_circuit, self.shift)"
   ]
  },
  {
   "cell_type": "code",
   "execution_count": 14,
   "id": "2778f35f",
   "metadata": {},
   "outputs": [],
   "source": [
    "# Define Network\n",
    "class Hybrid_qsnn(nn.Module):\n",
    "    def __init__(self):\n",
    "        super().__init__()\n",
    "\n",
    "        # Initialize layers\n",
    "        self.fc1 = nn.Linear(28*28, 100)\n",
    "        self.lif1 = snn.Leaky(beta=beta)\n",
    "        self.fc2 = nn.Linear(100, 10)\n",
    "        self.lif2 = snn.Leaky(beta=beta)\n",
    "        self.fc3 = nn.Linear(10, 1)\n",
    "        self.hybrid = Hybrid(np.pi / 2)\n",
    "\n",
    "    def forward(self, x):\n",
    "\n",
    "        # Initialize hidden states at t=0\n",
    "        mem1 = self.lif1.init_leaky()\n",
    "        mem2 = self.lif2.init_leaky()\n",
    "        \n",
    "        # Record the final layer\n",
    "        spk2_rec = []\n",
    "        mem2_rec = []\n",
    "\n",
    "        for step in range(num_steps):\n",
    "            cur1 = self.fc1(x)\n",
    "            spk1, mem1 = self.lif1(cur1, mem1)\n",
    "            cur2 = self.fc2(spk1)\n",
    "            spk2, mem2 = self.lif2(cur2, mem2)\n",
    "            spk2_rec.append(spk2)\n",
    "            mem2_rec.append(mem2)\n",
    "        \n",
    "        summed_spk = torch.stack(spk2_rec, dim=0).sum(axis=0)\n",
    "        q_in = self.fc3(summed_spk)\n",
    "        x1 = self.hybrid(q_in)\n",
    "        x0 = 1 - x1\n",
    "        out = torch.cat((x0.reshape(-1,1),x1.reshape(-1,1)), axis=1)\n",
    "        return out\n",
    "\n",
    "net_test = Hybrid_qsnn().to(device)"
   ]
  },
  {
   "cell_type": "code",
   "execution_count": 15,
   "id": "d8ae7fbe",
   "metadata": {},
   "outputs": [
    {
     "name": "stdout",
     "output_type": "stream",
     "text": [
      "79521\n"
     ]
    }
   ],
   "source": [
    "num_param = 0\n",
    "for p in net_test.parameters():\n",
    "    mul = 1\n",
    "    for num in list(p.shape):\n",
    "        mul *= num\n",
    "    num_param += mul\n",
    "print(num_param)"
   ]
  },
  {
   "cell_type": "code",
   "execution_count": 16,
   "id": "9c7ccc05",
   "metadata": {
    "scrolled": true
   },
   "outputs": [],
   "source": [
    "def training(net, model='qsnn'):\n",
    "    dataset_sizes = train_loader.dataset.len\n",
    "    test_dataset_sizes = test_loader.dataset.len\n",
    "        \n",
    "    loss = nn.NLLLoss()\n",
    "    optimizer = optim.Adam(net.parameters(), lr=1e-5)\n",
    "\n",
    "    num_epochs = 10\n",
    "    loss_hist = []\n",
    "    test_loss_hist = []\n",
    "    acc_hist = []\n",
    "    test_acc_hist = []\n",
    "    best_test_acc = 0\n",
    "\n",
    "    # Outer training loop\n",
    "    for epoch in tqdm(range(num_epochs), leave=False):\n",
    "        train_batch = iter(train_loader)\n",
    "\n",
    "        train_loss, test_loss = 0, 0\n",
    "        train_acc, test_acc = 0, 0\n",
    "        \n",
    "        # Minibatch training loop\n",
    "        for it, (data, targets) in tqdm(enumerate(train_batch),leave=False):\n",
    "            data = data.to(device)\n",
    "            targets = targets.to(device)\n",
    "\n",
    "            # forward pass\n",
    "            net.train()\n",
    "            if model =='qsnn':\n",
    "                preds = net(data.view(len(data), -1))\n",
    "            elif model =='qcnn':\n",
    "                preds = net(data)\n",
    "    #         print(preds)\n",
    "            # initialize the loss & sum over time\n",
    "            loss_val = loss(preds, targets)\n",
    "            # Gradient calculation + weight update\n",
    "            optimizer.zero_grad()\n",
    "            loss_val.backward()\n",
    "            optimizer.step()\n",
    "\n",
    "            if model =='qsnn':\n",
    "                preds = net(data.view(len(data), -1))\n",
    "            elif model =='qcnn':\n",
    "                preds = net(data)\n",
    "            _, idx =  preds.max(1)\n",
    "            acc = np.sum((targets == idx).detach().cpu().numpy())\n",
    "            train_acc += acc\n",
    "            train_loss += loss_val.item() * len(data)\n",
    "\n",
    "#         print(f\"Epoch {epoch}, Iteration {it}\")\n",
    "#         print(f\"Train Set Loss: {train_loss / dataset_sizes:.2f}\")\n",
    "#         print(f\"Train set accuracy: {train_acc/dataset_sizes*100:.2f}%\")\n",
    "\n",
    "        # Test set\n",
    "        with torch.no_grad():\n",
    "            net.eval()\n",
    "#             test_batch = iter(test_loader)\n",
    "#             for it, (test_data, test_targets) in tqdm(enumerate(test_batch),leave=False):\n",
    "            test_data_full = test_loader.dataset[:]\n",
    "            test_data = test_data_full[0].to(device)\n",
    "            test_targets = test_data_full[1].to(device)\n",
    "\n",
    "            # Test set forward pass\n",
    "            if model =='qsnn':\n",
    "                test_preds = net(test_data.view(len(test_data), -1))\n",
    "            elif model =='qcnn':\n",
    "                test_preds = net(test_data)\n",
    "\n",
    "            test_loss += loss(test_preds, test_targets).item() * len(test_data)\n",
    "            preds = []\n",
    "            for p in test_preds:\n",
    "                if p[0] > p[1]:\n",
    "                    preds.append(0)\n",
    "                else:\n",
    "                    preds.append(1)\n",
    "            test_acc = float(torch.sum(torch.tensor(preds) == test_targets))\n",
    "            \n",
    "#             print(f\"Test Set Loss: {test_loss / test_loader.dataset.len:.2f}\")\n",
    "#             print(f\"Test set accuracy: {test_acc/test_loader.dataset.len*100:.2f}%\")\n",
    "\n",
    "        # Store loss history for future plotting\n",
    "        loss_hist.append(train_loss / dataset_sizes)\n",
    "        test_loss_hist.append(test_loss / test_dataset_sizes)\n",
    "\n",
    "        acc_hist.append(train_acc / dataset_sizes)\n",
    "        test_acc_hist.append(test_acc / test_dataset_sizes)\n",
    "        \n",
    "        if test_acc_hist[-1] > best_test_acc:\n",
    "            best_test_acc = test_acc_hist[-1]\n",
    "            best_model_state = net.state_dict()\n",
    "            print('best model updated / Acc: ', best_test_acc)\n",
    "    \n",
    "    return loss_hist.copy(), test_loss_hist.copy(), acc_hist.copy(), test_acc_hist.copy(), best_model_state"
   ]
  },
  {
   "cell_type": "code",
   "execution_count": 17,
   "id": "cae1ea40",
   "metadata": {
    "scrolled": true
   },
   "outputs": [],
   "source": [
    "# data_dict = {}\n",
    "# data_dict['train_loss'], data_dict['test_loss'] = [], []\n",
    "# data_dict['train_acc'], data_dict['test_acc'] = [], []\n",
    "# data_dict['best_model'] = []\n",
    "# for i in tqdm(range(10)):\n",
    "#     net = Hybrid_qsnn().to(device)\n",
    "#     lh, tlh, ah, tah, bm = training(net, model='qsnn')\n",
    "#     data_dict['train_loss'].append(lh)\n",
    "#     data_dict['test_loss'].append(tlh)\n",
    "#     data_dict['train_acc'].append(ah)\n",
    "#     data_dict['test_acc'].append(tah)\n",
    "#     data_dict['best_model'].append(bm)"
   ]
  },
  {
   "cell_type": "code",
   "execution_count": 18,
   "id": "b4a24778",
   "metadata": {},
   "outputs": [],
   "source": [
    "# import pickle\n",
    "\n",
    "# with open('QSNN.pkl', 'wb') as f:\n",
    "#     pickle.dump(data_dict, f)"
   ]
  },
  {
   "cell_type": "markdown",
   "id": "d0f0b584",
   "metadata": {},
   "source": [
    "# Quantum Convoulutional Neural Network"
   ]
  },
  {
   "cell_type": "code",
   "execution_count": 19,
   "id": "6d752b54",
   "metadata": {},
   "outputs": [],
   "source": [
    "# Define Network\n",
    "class Hybrid_qcnn(nn.Module):\n",
    "    def __init__(self):\n",
    "        super().__init__()\n",
    "\n",
    "        # Initialize layers\n",
    "        self.conv1 = nn.Conv2d(in_channels = 1, out_channels=5, kernel_size=3, stride=1)\n",
    "        self.conv2 = nn.Conv2d(in_channels = 5, out_channels=15, kernel_size=3, stride=1)\n",
    "        self.fc1 = nn.Linear(24*24*15, 10)\n",
    "        self.fc2 = nn.Linear(10, 1)\n",
    "        self.hybrid = Hybrid(np.pi / 2)\n",
    "\n",
    "    def forward(self, x):\n",
    "        lendata = len(x)\n",
    "        x = F.relu(self.conv1(x))\n",
    "        x = F.relu(self.conv2(x))\n",
    "        x = x.view(lendata, -1)\n",
    "        x = F.relu(self.fc1(x))\n",
    "        q_in = self.fc2(x)        \n",
    "        x1 = self.hybrid(q_in)\n",
    "#         x = [self.hybrid(summed_spk[i]) for i in range(len(summed_spk))]\n",
    "#         x1 = torch.cat(x)\n",
    "        x0 = 1 - x1\n",
    "        out = torch.cat((x0.reshape(-1,1),x1.reshape(-1,1)), axis=1)\n",
    "        return out\n",
    "\n",
    "net_test = Hybrid_qcnn().to(device)"
   ]
  },
  {
   "cell_type": "code",
   "execution_count": 20,
   "id": "537581ba",
   "metadata": {
    "scrolled": true
   },
   "outputs": [
    {
     "name": "stdout",
     "output_type": "stream",
     "text": [
      "87161\n"
     ]
    }
   ],
   "source": [
    "num_param = 0\n",
    "for p in net_test.parameters():\n",
    "    mul = 1\n",
    "    for num in list(p.shape):\n",
    "        mul *= num\n",
    "    num_param += mul\n",
    "print(num_param)"
   ]
  },
  {
   "cell_type": "code",
   "execution_count": 21,
   "id": "894158d4",
   "metadata": {},
   "outputs": [],
   "source": [
    "# data_dict = {}\n",
    "# data_dict['train_loss'], data_dict['test_loss'] = [], []\n",
    "# data_dict['train_acc'], data_dict['test_acc'] = [], []\n",
    "# data_dict['best_model'] = []\n",
    "# for i in tqdm(range(10)):\n",
    "#     net = Hybrid_qcnn().to(device)\n",
    "#     lh, tlh, ah, tah, bm = training(net, model='qcnn')\n",
    "#     data_dict['train_loss'].append(lh)\n",
    "#     data_dict['test_loss'].append(tlh)\n",
    "#     data_dict['train_acc'].append(ah)\n",
    "#     data_dict['test_acc'].append(tah)\n",
    "#     data_dict['best_model'].append(bm)"
   ]
  },
  {
   "cell_type": "code",
   "execution_count": 22,
   "id": "7e56c8cd",
   "metadata": {},
   "outputs": [],
   "source": [
    "# import pickle\n",
    "\n",
    "# with open('QCNN.pkl', 'wb') as f:\n",
    "#     pickle.dump(data_dict, f)"
   ]
  },
  {
   "cell_type": "code",
   "execution_count": 23,
   "id": "defd93e7",
   "metadata": {},
   "outputs": [],
   "source": [
    "import pickle\n",
    "with open('QSNN.pkl', 'rb') as f:\n",
    "    qsnn_data = pickle.load(f)\n",
    "with open('QCNN.pkl', 'rb') as f:\n",
    "    qcnn_data = pickle.load(f)\n",
    "datas = {}\n",
    "datas['qsnn'] = qsnn_data\n",
    "datas['qcnn'] = qcnn_data\n",
    "colors = {'qsnn':'red', 'qcnn':'green'}"
   ]
  },
  {
   "cell_type": "code",
   "execution_count": 24,
   "id": "3fa7c38b",
   "metadata": {},
   "outputs": [
    {
     "data": {
      "text/plain": [
       "dict_keys(['train_loss', 'test_loss', 'train_acc', 'test_acc', 'best_model'])"
      ]
     },
     "execution_count": 24,
     "metadata": {},
     "output_type": "execute_result"
    }
   ],
   "source": [
    "qsnn_data.keys()"
   ]
  },
  {
   "cell_type": "code",
   "execution_count": 25,
   "id": "8d4e0068",
   "metadata": {},
   "outputs": [],
   "source": [
    "def plotter(title, plot_type, ylabel):\n",
    "    for k in datas.keys():\n",
    "        mu = np.array(datas[k][plot_type]).mean(axis=0)\n",
    "        plt.plot(range(10), mu, c=colors[k], label=k)\n",
    "        std = np.array(datas[k][plot_type]).std(axis=0)\n",
    "        plt.fill_between(range(10),mu-std, mu+std, color=colors[k], alpha=0.2)\n",
    "    plt.title(title)\n",
    "    plt.xlabel('Epoch')\n",
    "    plt.ylabel(ylabel)\n",
    "    plt.legend()\n",
    "    plt.show()"
   ]
  },
  {
   "cell_type": "code",
   "execution_count": 26,
   "id": "2f5b4c6c",
   "metadata": {},
   "outputs": [
    {
     "data": {
      "image/png": "[encoded data removed]",
      "text/plain": [
       "<Figure size 432x288 with 1 Axes>"
      ]
     },
     "metadata": {
      "needs_background": "light"
     },
     "output_type": "display_data"
    }
   ],
   "source": [
    "plotter('Train Loss History', 'train_loss', 'NLL Loss')"
   ]
  },
  {
   "cell_type": "code",
   "execution_count": 27,
   "id": "7cf2ea37",
   "metadata": {},
   "outputs": [
    {
     "data": {
      "image/png": "[encoded data removed]",
      "text/plain": [
       "<Figure size 432x288 with 1 Axes>"
      ]
     },
     "metadata": {
      "needs_background": "light"
     },
     "output_type": "display_data"
    }
   ],
   "source": [
    "plotter('Test Loss History', 'test_loss', 'NLL Loss')"
   ]
  },
  {
   "cell_type": "code",
   "execution_count": 28,
   "id": "871a03d0",
   "metadata": {},
   "outputs": [
    {
     "data": {
      "image/png": "[encoded data removed]",
      "text/plain": [
       "<Figure size 432x288 with 1 Axes>"
      ]
     },
     "metadata": {
      "needs_background": "light"
     },
     "output_type": "display_data"
    }
   ],
   "source": [
    "plotter('Train Accuracy History', 'train_acc', 'Accuracy')"
   ]
  },
  {
   "cell_type": "code",
   "execution_count": 29,
   "id": "aba3e743",
   "metadata": {},
   "outputs": [
    {
     "data": {
      "image/png": "[encoded data removed]",
      "text/plain": [
       "<Figure size 432x288 with 1 Axes>"
      ]
     },
     "metadata": {
      "needs_background": "light"
     },
     "output_type": "display_data"
    }
   ],
   "source": [
    "plotter('Test Accuracy History', 'test_acc', 'Accuracy')"
   ]
  },
  {
   "cell_type": "markdown",
   "id": "9f3e335d",
   "metadata": {},
   "source": [
    "# QSNN Performance on Real Quantum Device"
   ]
  },
  {
   "cell_type": "code",
   "execution_count": 30,
   "id": "72767da6",
   "metadata": {},
   "outputs": [],
   "source": [
    "from qiskit import IBMQ\n",
    "from qiskit.providers.ibmq import least_busy\n",
    "ibm_token = '49670f985b02b984d52967234a8d86aa4f49519731f6a3b1b9b5c2afffde9d8f34d46e6df77cf8ec96e1adf36aadeaf8a6c4a73665cfb2945627ed954451f473' # https://quantum-computing.ibm.com/account\n",
    "ibmq_account = IBMQ.enable_account(ibm_token)\n",
    "ibmq_provider = IBMQ.get_provider(hub='ibm-q-skku', group='snu', project='snu-graduate')\n",
    "# ibmq_backend = ibmq_provider.get_backend('ibm_perth')"
   ]
  },
  {
   "cell_type": "code",
   "execution_count": 31,
   "id": "e6c0659a",
   "metadata": {},
   "outputs": [],
   "source": [
    "ibmq_backend = ibmq_provider.get_backend('ibmq_kolkata')"
   ]
  },
  {
   "cell_type": "code",
   "execution_count": 32,
   "id": "43e08062",
   "metadata": {},
   "outputs": [],
   "source": [
    "from qiskit_ionq import IonQProvider\n",
    "ionq_provider = IonQProvider('6fQ3841QgvhddNsUsf6PYdqRdBZjgRDL')\n",
    "ionq_backend = ionq_provider.get_backend('ionq_qpu')"
   ]
  },
  {
   "cell_type": "code",
   "execution_count": 33,
   "id": "fabae0cf",
   "metadata": {},
   "outputs": [],
   "source": [
    "simulator = qiskit.Aer.get_backend('aer_simulator')"
   ]
  },
  {
   "cell_type": "code",
   "execution_count": 34,
   "id": "db829017",
   "metadata": {},
   "outputs": [
    {
     "name": "stdout",
     "output_type": "stream",
     "text": [
      "[tensor(0.9964), tensor(0.9939), tensor(0.9929), tensor(0.9949), tensor(0.9954), tensor(0.9914), tensor(0.9888), tensor(0.9909), tensor(0.9959), tensor(0.9903)]\n"
     ]
    }
   ],
   "source": [
    "print([max(d) for d in datas['qsnn']['test_acc']])"
   ]
  },
  {
   "cell_type": "code",
   "execution_count": 35,
   "id": "e9aa2a58",
   "metadata": {},
   "outputs": [
    {
     "name": "stdout",
     "output_type": "stream",
     "text": [
      "[tensor(0.9863), tensor(0.9878), tensor(0.9878), tensor(0.9924), tensor(0.9832), tensor(0.9782), tensor(0.9909), tensor(0.9893), tensor(0.9837), tensor(0.9893)]\n"
     ]
    }
   ],
   "source": [
    "print([max(d) for d in datas['qcnn']['test_acc']])"
   ]
  },
  {
   "cell_type": "code",
   "execution_count": 36,
   "id": "72c549d3",
   "metadata": {},
   "outputs": [],
   "source": [
    "best_statedict = datas['qsnn']['best_model'][0]"
   ]
  },
  {
   "cell_type": "code",
   "execution_count": 37,
   "id": "4ccad331",
   "metadata": {},
   "outputs": [],
   "source": [
    "class QuantumCircuit:\n",
    "    def __init__(self, backend, n_qubits=1, shots=10):\n",
    "        self._circuit = qiskit.QuantumCircuit(n_qubits)\n",
    "        \n",
    "        all_qubits = [i for i in range(n_qubits)]\n",
    "        self.theta = qiskit.circuit.Parameter('theta')\n",
    "        self._circuit.h(all_qubits)\n",
    "        self._circuit.barrier()\n",
    "        self._circuit.ry(self.theta, all_qubits)\n",
    "        \n",
    "        self._circuit.measure_all()\n",
    "\n",
    "        self.backend = backend\n",
    "        self.shots = shots\n",
    "    \n",
    "    def run(self, thetas):\n",
    "        thetas = thetas.tolist()\n",
    "        t_qc = transpile(self._circuit, self.backend)\n",
    "        qobj = assemble(t_qc, shots=self.shots,\n",
    "                        parameter_binds = [{self.theta: theta[0]} for theta in thetas])\n",
    "        job = self.backend.run(qobj)\n",
    "        result = job.result().get_counts()\n",
    "        \n",
    "        for r in result:\n",
    "            if '0' not in r.keys():\n",
    "                r['0'] = 0\n",
    "            elif '1' not in r.keys():\n",
    "                r['1'] = 0\n",
    "            \n",
    "        return result"
   ]
  },
  {
   "cell_type": "code",
   "execution_count": 38,
   "id": "b36c17f2",
   "metadata": {},
   "outputs": [],
   "source": [
    "# Define Network\n",
    "class Hybrid_qsnn(nn.Module):\n",
    "    def __init__(self):\n",
    "        super().__init__()\n",
    "\n",
    "        # Initialize layers\n",
    "        self.fc1 = nn.Linear(28*28, 100)\n",
    "        self.lif1 = snn.Leaky(beta=beta)\n",
    "        self.fc2 = nn.Linear(100, 10)\n",
    "        self.lif2 = snn.Leaky(beta=beta)\n",
    "        self.fc3 = nn.Linear(10, 1)\n",
    "#         self.qc = QuantumCircuit(ibmq_backend)\n",
    "#         self.qc = QuantumCircuit(ionq_backend)\n",
    "        self.qc = QuantumCircuit(simulator)\n",
    "\n",
    "    def forward(self, x):\n",
    "\n",
    "        # Initialize hidden states at t=0\n",
    "        mem1 = self.lif1.init_leaky()\n",
    "        mem2 = self.lif2.init_leaky()\n",
    "        \n",
    "        # Record the final layer\n",
    "        spk2_rec = []\n",
    "        mem2_rec = []\n",
    "\n",
    "        for step in range(num_steps):\n",
    "            cur1 = self.fc1(x)\n",
    "            spk1, mem1 = self.lif1(cur1, mem1)\n",
    "            cur2 = self.fc2(spk1)\n",
    "            spk2, mem2 = self.lif2(cur2, mem2)\n",
    "            spk2_rec.append(spk2)\n",
    "            mem2_rec.append(mem2)\n",
    "        \n",
    "        summed_spk = torch.stack(spk2_rec, dim=0).sum(axis=0)\n",
    "        q_in = self.fc3(summed_spk)\n",
    "        out = self.qc.run(q_in)\n",
    "        return out\n",
    "    \n",
    "    def get_spikes(self, x):\n",
    "            # Initialize hidden states at t=0\n",
    "        mem1 = self.lif1.init_leaky()\n",
    "        mem2 = self.lif2.init_leaky()\n",
    "        \n",
    "        # Record the final layer\n",
    "        spk1_rec = []\n",
    "        spk2_rec = []\n",
    "        mem2_rec = []\n",
    "\n",
    "        for step in range(num_steps):\n",
    "            cur1 = self.fc1(x)\n",
    "            spk1, mem1 = self.lif1(cur1, mem1)\n",
    "            spk1_rec.append(spk1)\n",
    "            cur2 = self.fc2(spk1)\n",
    "            spk2, mem2 = self.lif2(cur2, mem2)\n",
    "            spk2_rec.append(spk2)\n",
    "            mem2_rec.append(mem2)\n",
    "        \n",
    "        summed_spk1 = torch.stack(spk1_rec, dim=0).sum(axis=0)\n",
    "        summed_spk2 = torch.stack(spk2_rec, dim=0).sum(axis=0)\n",
    "        return summed_spk1, summed_spk2"
   ]
  },
  {
   "cell_type": "code",
   "execution_count": 39,
   "id": "a1f7d732",
   "metadata": {},
   "outputs": [
    {
     "data": {
      "text/plain": [
       "Hybrid_qsnn(\n",
       "  (fc1): Linear(in_features=784, out_features=100, bias=True)\n",
       "  (lif1): Leaky()\n",
       "  (fc2): Linear(in_features=100, out_features=10, bias=True)\n",
       "  (lif2): Leaky()\n",
       "  (fc3): Linear(in_features=10, out_features=1, bias=True)\n",
       ")"
      ]
     },
     "execution_count": 39,
     "metadata": {},
     "output_type": "execute_result"
    }
   ],
   "source": [
    "model = Hybrid_qsnn().to(device)\n",
    "model.load_state_dict(best_statedict)\n",
    "model.eval()"
   ]
  },
  {
   "cell_type": "code",
   "execution_count": 40,
   "id": "a28ac07f",
   "metadata": {},
   "outputs": [],
   "source": [
    "# full_data_train = train_loader.dataset[:][0]\n",
    "# spike_data1, spike_data2 = model.get_spikes(full_data_train.view(len(full_data_train),-1))"
   ]
  },
  {
   "cell_type": "code",
   "execution_count": 41,
   "id": "d38a6bf5",
   "metadata": {},
   "outputs": [],
   "source": [
    "# spike_data1.mean(axis=0).detach().numpy()"
   ]
  },
  {
   "cell_type": "code",
   "execution_count": 42,
   "id": "32232e68",
   "metadata": {},
   "outputs": [],
   "source": [
    "# spike_data2.mean(axis=0).detach().numpy()"
   ]
  },
  {
   "cell_type": "code",
   "execution_count": null,
   "id": "4e9695ed",
   "metadata": {},
   "outputs": [],
   "source": [
    "test_batch = iter(test_loader)\n",
    "pred_data, input_data, target_data = [], [], []\n",
    "for it, (test_data, test_targets) in tqdm(enumerate(test_batch),leave=False):\n",
    "    test_data = test_data.to(device)\n",
    "    test_targets = test_targets.to(device)\n",
    "    for i in range(len(test_data)):\n",
    "        input_data.append(test_data.tolist()[i])\n",
    "        target_data.append(test_targets.tolist()[i])\n",
    "    \n",
    "    test_preds = model(test_data.view(len(test_data), -1))\n",
    "    for p in test_preds:\n",
    "        pred_data.append(p)"
   ]
  },
  {
   "cell_type": "code",
   "execution_count": null,
   "id": "7240c54f",
   "metadata": {},
   "outputs": [],
   "source": [
    "# ibmq_data = {'pred': pred_data, 'target': target_data, 'inputs': input_data, 'device': 'ibmq_kolkata'}\n",
    "# with open('IBMQ_data_10shots.pkl', 'wb') as f:\n",
    "#     pickle.dump(ibmq_data, f)"
   ]
  },
  {
   "cell_type": "code",
   "execution_count": 43,
   "id": "080d9cda",
   "metadata": {},
   "outputs": [],
   "source": [
    "with open('IBMQ_data_10shots.pkl', 'rb') as f:\n",
    "    ibmq_data = pickle.load(f)"
   ]
  },
  {
   "cell_type": "code",
   "execution_count": 44,
   "id": "b9dad373",
   "metadata": {},
   "outputs": [],
   "source": [
    "preds = []\n",
    "for p in ibmq_data['pred']:\n",
    "    if p['0'] > p['1']:\n",
    "        preds.append(0)\n",
    "    else:\n",
    "        preds.append(1)"
   ]
  },
  {
   "cell_type": "code",
   "execution_count": 45,
   "id": "c7c53b7c",
   "metadata": {
    "scrolled": true
   },
   "outputs": [
    {
     "data": {
      "text/plain": [
       "0.99375"
      ]
     },
     "execution_count": 45,
     "metadata": {},
     "output_type": "execute_result"
    }
   ],
   "source": [
    "np.sum(np.array(preds) == np.array(ibmq_data['target'])) / len(preds)"
   ]
  },
  {
   "cell_type": "markdown",
   "id": "760d0af7",
   "metadata": {},
   "source": [
    "# QSNN with QEC"
   ]
  },
  {
   "cell_type": "code",
   "execution_count": 46,
   "id": "631844da",
   "metadata": {},
   "outputs": [],
   "source": [
    "class QuantumCircuit_QEC:\n",
    "    def __init__(self, backend, n_qubits=5, shots=128):\n",
    "        self.theta = qiskit.circuit.Parameter('theta')\n",
    "        \n",
    "        # First 5 qubits : Logical qubits\n",
    "        all_qubits = [i for i in range(n_qubits)]\n",
    "        # Last 4 qubits : Syndrome qubits\n",
    "        aux_qubits = [i for i in range(n_qubits, n_qubits+4)]\n",
    "        qr = qiskit.QuantumRegister(n_qubits + 4)\n",
    "        self._circuit = qiskit.QuantumCircuit(qr)\n",
    "        self._circuit.h(0)\n",
    "        self._circuit.s(0)\n",
    "        self._circuit.cz(0,1)\n",
    "        self._circuit.cz(0,3)\n",
    "        self._circuit.cy(0,4)\n",
    "        self._circuit.barrier()\n",
    "        self._circuit.h(1)\n",
    "        self._circuit.cz(1,2)\n",
    "        self._circuit.cz(1,3)\n",
    "        self._circuit.cnot(1,4)\n",
    "        self._circuit.h(2)\n",
    "        self._circuit.cz(2,0)\n",
    "        self._circuit.cz(2,1)\n",
    "        self._circuit.cnot(2,4)\n",
    "        self._circuit.h(3)\n",
    "        self._circuit.s(3)\n",
    "        self._circuit.cz(3,0)\n",
    "        self._circuit.cz(3,2)\n",
    "        self._circuit.cy(3,4)\n",
    "        # Decompose Ry using Rx, Rz\n",
    "        self._circuit.barrier()\n",
    "        self._circuit.rz(np.pi, all_qubits)\n",
    "        self._circuit.rx(np.pi/2, all_qubits)\n",
    "        self._circuit.rz(self.theta, all_qubits)\n",
    "        self._circuit.rz(np.pi, all_qubits)\n",
    "        self._circuit.rx(np.pi/2, all_qubits)\n",
    "        # Decoding\n",
    "        self._circuit.h(aux_qubits)\n",
    "        self._circuit.barrier()\n",
    "        self._circuit.cz(aux_qubits[0], 0)\n",
    "        self._circuit.cx(aux_qubits[0], 1)\n",
    "        self._circuit.cx(aux_qubits[0], 2)\n",
    "        self._circuit.cz(aux_qubits[0], 3)\n",
    "        self._circuit.barrier()\n",
    "        self._circuit.cx(aux_qubits[1], 0)\n",
    "        self._circuit.cx(aux_qubits[1], 1)\n",
    "        self._circuit.cz(aux_qubits[1], 2)\n",
    "        self._circuit.cz(aux_qubits[1], 4)\n",
    "        self._circuit.barrier()\n",
    "        self._circuit.cx(aux_qubits[2], 0)\n",
    "        self._circuit.cz(aux_qubits[2], 1)\n",
    "        self._circuit.cz(aux_qubits[2], 3)\n",
    "        self._circuit.cx(aux_qubits[2], 4)\n",
    "        self._circuit.barrier()\n",
    "        self._circuit.cz(aux_qubits[3], 0)\n",
    "        self._circuit.cz(aux_qubits[3], 2)\n",
    "        self._circuit.cx(aux_qubits[3], 3)\n",
    "        self._circuit.cx(aux_qubits[3], 4)\n",
    "        self._circuit.barrier()\n",
    "        self._circuit.h(aux_qubits)\n",
    "        self._circuit.barrier()\n",
    "        self._circuit.measure_all()\n",
    "        \n",
    "        self.backend = backend\n",
    "        self.shots = shots\n",
    "    \n",
    "    def run(self, thetas):\n",
    "        thetas = thetas.tolist()\n",
    "        t_qc = transpile(self._circuit, self.backend)\n",
    "        qobj = assemble(t_qc, shots=self.shots,\n",
    "                        parameter_binds = [{self.theta: theta[0]} for theta in thetas])\n",
    "        job = self.backend.run(qobj)\n",
    "        result = job.result().get_counts()\n",
    "            \n",
    "        return result"
   ]
  },
  {
   "cell_type": "code",
   "execution_count": 47,
   "id": "8d609520",
   "metadata": {},
   "outputs": [],
   "source": [
    "circuit = QuantumCircuit_QEC(ibmq_backend)"
   ]
  },
  {
   "cell_type": "markdown",
   "id": "48054222",
   "metadata": {},
   "source": [
    "### Caution: *The first 5 qubits are logical qubits(q0-q4) and the last 4 qubits are syndrome qubits (M0-M3)*"
   ]
  },
  {
   "cell_type": "code",
   "execution_count": null,
   "id": "4d4965fa",
   "metadata": {},
   "outputs": [
    {
     "data": {
      "application/vnd.jupyter.widget-view+json": {
       "model_id": "0a91f730d2044b48af676f8e40e320aa",
       "version_major": 2,
       "version_minor": 0
      },
      "text/plain": [
       "0it [00:00, ?it/s]"
      ]
     },
     "metadata": {},
     "output_type": "display_data"
    },
    {
     "name": "stderr",
     "output_type": "stream",
     "text": [
      "<ipython-input-48-0373b05863b5>:7: UserWarning: To copy construct from a tensor, it is recommended to use sourceTensor.clone().detach() or sourceTensor.clone().detach().requires_grad_(True), rather than torch.tensor(sourceTensor).\n",
      "  result = circuit.run(torch.tensor(test_data).view(len(test_data), -1))\n",
      "<ipython-input-46-236b74732802>:72: DeprecationWarning: Passing a Qobj to Backend.run is deprecated and will be removed in a future release. Please pass in circuits or pulse schedules instead.\n",
      "  job = self.backend.run(qobj)\n"
     ]
    }
   ],
   "source": [
    "test_batch = iter(test_loader)\n",
    "syndrome_result = []\n",
    "target_result = []\n",
    "for it, (test_data, test_targets) in tqdm(enumerate(test_batch),leave=False):\n",
    "    test_data = test_data.to(device)\n",
    "    test_targets = test_targets.to(device)\n",
    "    result = circuit.run(torch.tensor(test_data).view(len(test_data), -1))\n",
    "    for r in result:\n",
    "        syndrome_result.append(r)\n",
    "    for t in test_targets:\n",
    "        target_result.append(t)"
   ]
  },
  {
   "cell_type": "code",
   "execution_count": null,
   "id": "2e99a1d7",
   "metadata": {},
   "outputs": [],
   "source": [
    "result"
   ]
  },
  {
   "cell_type": "code",
   "execution_count": null,
   "id": "c045e386",
   "metadata": {},
   "outputs": [],
   "source": [
    "logical_zero = ['00000', '10010', '01001', '10100', '01010', '11011', '00110', '11000',\n",
    "                '11101', '00011', '11110', '01111', '10001', '01100', '10111', '00101']\n",
    "logical_one = ['11111', '01101', '10110', '01011', '10101', '00100', '11001', '00111',\n",
    "                '00010', '11100', '00001', '10000', '01110', '10011', '01000', '11010']\n",
    "x_error_syndrome = ['1000', '0001', '1100', '0110', '0011', '1011', '1101', '1110', '1111', '0111']\n",
    "\n",
    "\n",
    "corrected_probs = []\n",
    "for r in result:\n",
    "    count_zero = 0\n",
    "    count_one = 0\n",
    "    for state in r.keys():\n",
    "        logical_state = state[:-4]\n",
    "        syndrome = state[-4:]\n",
    "        if (logical_state in logical_zero and syndrome not in x_error_syndrome)\\\n",
    "            or (logical_state in logical_one and syndrome in x_error_syndrome):\n",
    "            count_zero += r[state]\n",
    "        else:\n",
    "            count_one += r[state]\n",
    "    corrected_probs.append([count_zero/128, count_one/128])\n",
    "    \n",
    "corrected_probs = np.array(corrected_probs)\n",
    "target_result = np.array(target_result)"
   ]
  },
  {
   "cell_type": "code",
   "execution_count": null,
   "id": "85e20aa9",
   "metadata": {},
   "outputs": [],
   "source": [
    "preds = []\n",
    "for p in corrected_probs:\n",
    "    if p['0'] > p['1']:\n",
    "        preds.append(0)\n",
    "    else:\n",
    "        preds.append(1)"
   ]
  },
  {
   "cell_type": "code",
   "execution_count": null,
   "id": "5f748f96",
   "metadata": {},
   "outputs": [],
   "source": [
    "np.sum(np.array(pred) == target_result) / len(preds)"
   ]
  },
  {
   "cell_type": "code",
   "execution_count": null,
   "id": "09a438d1",
   "metadata": {},
   "outputs": [],
   "source": [
    "circuit._circuit.draw('mpl')"
   ]
  },
  {
   "cell_type": "code",
   "execution_count": null,
   "id": "e492fc23",
   "metadata": {},
   "outputs": [],
   "source": [
    "# import qiskit.quantum_info as qi\n",
    "# stv1 = qi.Statevector.from_instruction(circuit)\n",
    "# stv1 = stv1.to_dict()\n",
    "# stv1"
   ]
  },
  {
   "cell_type": "code",
   "execution_count": null,
   "id": "3bb145c7",
   "metadata": {},
   "outputs": [],
   "source": []
  },
  {
   "cell_type": "code",
   "execution_count": null,
   "id": "3d78fcb9",
   "metadata": {},
   "outputs": [],
   "source": []
  }
 ],
 "metadata": {
  "kernelspec": {
   "display_name": "Python 3",
   "language": "python",
   "name": "python3"
  },
  "language_info": {
   "codemirror_mode": {
    "name": "ipython",
    "version": 3
   },
   "file_extension": ".py",
   "mimetype": "text/x-python",
   "name": "python",
   "nbconvert_exporter": "python",
   "pygments_lexer": "ipython3",
   "version": "3.8.8"
  }
 },
 "nbformat": 4,
 "nbformat_minor": 5
}
